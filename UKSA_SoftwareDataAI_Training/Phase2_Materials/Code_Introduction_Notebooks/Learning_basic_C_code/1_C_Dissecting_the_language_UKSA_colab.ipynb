{
  "cells": [
    {
      "cell_type": "markdown",
      "metadata": {
        "id": "-PM7Zb4uWMSF"
      },
      "source": [
        "We are using a jupyter notebook to display and run C code.\n",
        "\n",
        "The entire program needs to be within one code block to run - it will not remember the variables the way a python script will.\n",
        "\n",
        "You can execute the code int he same way by either using 'shift' and 'enter' at the same time on the keyboard or by clicking the trignular arrow above.\n"
      ]
    },
    {
      "cell_type": "markdown",
      "metadata": {
        "id": "APpbC5QmWMSI"
      },
      "source": [
        "# Basic C - becoming familiar\n",
        "\n",
        "Below we have our first 'Hello world' C script. We will use this to investigate what can go wrong in C! This will get us familiar with the structure and notation of the code and help with debugging.\n",
        "\n",
        "In particular we'll think about:\n",
        "* What is this stdio.h thing?\n",
        "* Whitespace\n",
        "* The main function (and all functions)\n",
        "* Semicolons;;;;!\n",
        "* Case sensitivity\n",
        "* Double quotes\n",
        "* The return 0 function\n",
        "* printf statements\n",
        "\n",
        "the comment sign in C is //\n",
        "\n",
        "multi-line comments start like this /* and end like this */"
      ]
    },
    {
      "cell_type": "code",
      "execution_count": 3,
      "metadata": {
        "colab": {
          "base_uri": "https://localhost:8080/"
        },
        "id": "cbE1dfGOWMSI",
        "outputId": "004b46e3-0ac5-4187-852c-b329c34aa227"
      },
      "outputs": [
        {
          "output_type": "stream",
          "name": "stdout",
          "text": [
            "Overwriting helloworld.c\n"
          ]
        }
      ],
      "source": [
        "%%writefile helloworld.c\n",
        "#include <stdio.h>\n",
        "\n",
        "int main() {\n",
        "  // I am a comment!\n",
        "  /* I\n",
        "  am\n",
        "  a\n",
        "  multi-line\n",
        "  comments */\n",
        "  printf(\"Hello World!\");\n",
        "  return 0;\n",
        "}"
      ]
    },
    {
      "cell_type": "code",
      "execution_count": 4,
      "metadata": {
        "colab": {
          "base_uri": "https://localhost:8080/"
        },
        "id": "x0oLfIglWMSK",
        "outputId": "583a5775-cc83-4f8c-ce20-e46c56458784"
      },
      "outputs": [
        {
          "output_type": "stream",
          "name": "stdout",
          "text": [
            "Hello World!"
          ]
        }
      ],
      "source": [
        "! g++ helloworld.c -o helloPrograms\n",
        "! ./helloPrograms"
      ]
    },
    {
      "cell_type": "markdown",
      "metadata": {
        "id": "eMyuXy63WMSK"
      },
      "source": [
        "Let's start with this stdio.h thing. Does it work without it? Try below."
      ]
    },
    {
      "cell_type": "code",
      "execution_count": 5,
      "metadata": {
        "id": "FaeaIvpTWMSK"
      },
      "outputs": [],
      "source": [
        "#include <stdio.h>"
      ]
    },
    {
      "cell_type": "markdown",
      "metadata": {
        "id": "M4qu1SqiWMSK"
      },
      "source": [
        "stdio.h is a very basic C library which allows us to input and output things and is essentially always needed."
      ]
    },
    {
      "cell_type": "markdown",
      "metadata": {
        "id": "4JOLTopUWMSL"
      },
      "source": [
        "Now how does C deal with whitespace - either through indentations, space bar, tab, or leaving a full line of whitespace? Try it and see what happens."
      ]
    },
    {
      "cell_type": "code",
      "execution_count": 5,
      "metadata": {
        "id": "vv8GFZWGWMSL"
      },
      "outputs": [],
      "source": []
    },
    {
      "cell_type": "markdown",
      "metadata": {
        "id": "dP-XM1pdWMSL"
      },
      "source": [
        "It is always good practice to use indentation even if it is not explicitly needed in the code - it helps to debug.\n",
        "\n",
        "What about main() what happens if you leave this out? What about the curly braces?"
      ]
    },
    {
      "cell_type": "code",
      "execution_count": 5,
      "metadata": {
        "id": "QnuYRBbmWMSL"
      },
      "outputs": [],
      "source": []
    },
    {
      "cell_type": "markdown",
      "metadata": {
        "id": "lng_1PUJWMSL"
      },
      "source": [
        "Try to remove the semi-colon at the end of the 'printf' statement. What happens?"
      ]
    },
    {
      "cell_type": "code",
      "execution_count": 5,
      "metadata": {
        "id": "o_840AZLWMSL"
      },
      "outputs": [],
      "source": []
    },
    {
      "cell_type": "markdown",
      "metadata": {
        "id": "NIKAGMooWMSL"
      },
      "source": [
        "What about this version of the code below - what can you infer about the semicolon usage?"
      ]
    },
    {
      "cell_type": "code",
      "execution_count": 6,
      "metadata": {
        "colab": {
          "base_uri": "https://localhost:8080/"
        },
        "id": "wkUtDvXpWMSM",
        "outputId": "1f24dca4-2c49-4529-82f0-5077f6e8afc7"
      },
      "outputs": [
        {
          "output_type": "stream",
          "name": "stdout",
          "text": [
            "Overwriting helloworld.c\n"
          ]
        }
      ],
      "source": [
        "%%writefile helloworld.c\n",
        "#include <stdio.h>\n",
        "\n",
        "int main() {\n",
        "  printf(\"Hello World!\"); return 0;\n",
        "}"
      ]
    },
    {
      "cell_type": "code",
      "source": [
        "! g++ helloworld.c -o helloPrograms\n",
        "! ./helloPrograms"
      ],
      "metadata": {
        "colab": {
          "base_uri": "https://localhost:8080/"
        },
        "id": "lCIs_aH2WXkZ",
        "outputId": "5bdd4417-ba9c-4c0c-d5cc-0649a28b00d6"
      },
      "execution_count": 7,
      "outputs": [
        {
          "output_type": "stream",
          "name": "stdout",
          "text": [
            "Hello World!"
          ]
        }
      ]
    },
    {
      "cell_type": "code",
      "execution_count": 7,
      "metadata": {
        "id": "S9igfTOfWMSM"
      },
      "outputs": [],
      "source": []
    },
    {
      "cell_type": "markdown",
      "metadata": {
        "id": "Nqi8lKOmWMSM"
      },
      "source": [
        "What is wrong in this code and why?"
      ]
    },
    {
      "cell_type": "code",
      "execution_count": 8,
      "metadata": {
        "colab": {
          "base_uri": "https://localhost:8080/"
        },
        "id": "BcNS1fAaWMSM",
        "outputId": "251e1838-3d36-4439-a89f-f69580c287be"
      },
      "outputs": [
        {
          "output_type": "stream",
          "name": "stdout",
          "text": [
            "Overwriting helloworld.c\n"
          ]
        }
      ],
      "source": [
        "%%writefile helloworld.c\n",
        "#include <stdio.h>\n",
        "\n",
        "int Main() {\n",
        "  // I am a comment!\n",
        "  Printf(\"Hello World!\");\n",
        "  Return 0;\n",
        "}"
      ]
    },
    {
      "cell_type": "code",
      "source": [
        "! g++ helloworld.c -o helloPrograms\n",
        "! ./helloPrograms"
      ],
      "metadata": {
        "colab": {
          "base_uri": "https://localhost:8080/"
        },
        "id": "gtPHgPwhWZXZ",
        "outputId": "f607af50-de2b-4b77-9940-1f725b8d15f0"
      },
      "execution_count": 9,
      "outputs": [
        {
          "output_type": "stream",
          "name": "stdout",
          "text": [
            "\u001b[01m\u001b[Khelloworld.c:\u001b[m\u001b[K In function ‘\u001b[01m\u001b[Kint Main()\u001b[m\u001b[K’:\n",
            "\u001b[01m\u001b[Khelloworld.c:5:3:\u001b[m\u001b[K \u001b[01;31m\u001b[Kerror: \u001b[m\u001b[K‘\u001b[01m\u001b[KPrintf\u001b[m\u001b[K’ was not declared in this scope; did you mean ‘\u001b[01m\u001b[Kprintf\u001b[m\u001b[K’?\n",
            "    5 |   \u001b[01;31m\u001b[KPrintf\u001b[m\u001b[K(\"Hello World!\");\n",
            "      |   \u001b[01;31m\u001b[K^~~~~~\u001b[m\u001b[K\n",
            "      |   \u001b[32m\u001b[Kprintf\u001b[m\u001b[K\n",
            "\u001b[01m\u001b[Khelloworld.c:6:3:\u001b[m\u001b[K \u001b[01;31m\u001b[Kerror: \u001b[m\u001b[K‘\u001b[01m\u001b[KReturn\u001b[m\u001b[K’ was not declared in this scope\n",
            "    6 |   \u001b[01;31m\u001b[KReturn\u001b[m\u001b[K 0;\n",
            "      |   \u001b[01;31m\u001b[K^~~~~~\u001b[m\u001b[K\n",
            "\u001b[01m\u001b[Khelloworld.c:7:1:\u001b[m\u001b[K \u001b[01;35m\u001b[Kwarning: \u001b[m\u001b[Kno return statement in function returning non-void [\u001b[01;35m\u001b[K\u001b]8;;https://gcc.gnu.org/onlinedocs/gcc/Warning-Options.html#index-Wreturn-type\u0007-Wreturn-type\u001b]8;;\u0007\u001b[m\u001b[K]\n",
            "    7 | \u001b[01;35m\u001b[K}\u001b[m\u001b[K\n",
            "      | \u001b[01;35m\u001b[K^\u001b[m\u001b[K\n",
            "Hello World!"
          ]
        }
      ]
    },
    {
      "cell_type": "markdown",
      "metadata": {
        "id": "yHACoo_lWMSM"
      },
      "source": [
        "What about this code?"
      ]
    },
    {
      "cell_type": "code",
      "execution_count": 10,
      "metadata": {
        "colab": {
          "base_uri": "https://localhost:8080/"
        },
        "id": "My_AgoqoWMSM",
        "outputId": "a5ed65a9-bc65-42ca-ee17-e9cacfc48508"
      },
      "outputs": [
        {
          "output_type": "stream",
          "name": "stdout",
          "text": [
            "Overwriting helloworld.c\n"
          ]
        }
      ],
      "source": [
        "%%writefile helloworld.c\n",
        "#include <stdio.h>\n",
        "\n",
        "int main() {\n",
        "  // I am a comment!\n",
        "  printf('Hello World!');\n",
        "  return 0;\n",
        "}"
      ]
    },
    {
      "cell_type": "code",
      "source": [
        "! g++ helloworld.c -o helloPrograms\n",
        "! ./helloPrograms"
      ],
      "metadata": {
        "colab": {
          "base_uri": "https://localhost:8080/"
        },
        "id": "Txa5Ro0aWalQ",
        "outputId": "c4acb82d-5ca6-4262-bd93-bedffa31eeee"
      },
      "execution_count": 11,
      "outputs": [
        {
          "output_type": "stream",
          "name": "stdout",
          "text": [
            "\u001b[01m\u001b[Khelloworld.c:5:10:\u001b[m\u001b[K \u001b[01;35m\u001b[Kwarning: \u001b[m\u001b[Kcharacter constant too long for its type\n",
            "    5 |   printf(\u001b[01;35m\u001b[K'Hello World!'\u001b[m\u001b[K);\n",
            "      |          \u001b[01;35m\u001b[K^~~~~~~~~~~~~~\u001b[m\u001b[K\n",
            "\u001b[01m\u001b[Khelloworld.c:\u001b[m\u001b[K In function ‘\u001b[01m\u001b[Kint main()\u001b[m\u001b[K’:\n",
            "\u001b[01m\u001b[Khelloworld.c:5:10:\u001b[m\u001b[K \u001b[01;31m\u001b[Kerror: \u001b[m\u001b[Kinvalid conversion from ‘\u001b[01m\u001b[Kint\u001b[m\u001b[K’ to ‘\u001b[01m\u001b[Kconst char*\u001b[m\u001b[K’ [\u001b[01;31m\u001b[K\u001b]8;;https://gcc.gnu.org/onlinedocs/gcc/Warning-Options.html#index-fpermissive\u0007-fpermissive\u001b]8;;\u0007\u001b[m\u001b[K]\n",
            "    5 |   printf(\u001b[01;31m\u001b[K'Hello World!'\u001b[m\u001b[K);\n",
            "      |          \u001b[01;31m\u001b[K^~~~~~~~~~~~~~\u001b[m\u001b[K\n",
            "      |          \u001b[01;31m\u001b[K|\u001b[m\u001b[K\n",
            "      |          \u001b[01;31m\u001b[Kint\u001b[m\u001b[K\n",
            "In file included from \u001b[01m\u001b[Khelloworld.c:1\u001b[m\u001b[K:\n",
            "\u001b[01m\u001b[K/usr/include/stdio.h:356:43:\u001b[m\u001b[K \u001b[01;36m\u001b[Knote: \u001b[m\u001b[K  initializing argument 1 of ‘\u001b[01m\u001b[Kint printf(const char*, ...)\u001b[m\u001b[K’\n",
            "  356 | extern int printf (\u001b[01;36m\u001b[Kconst char *__restrict __format\u001b[m\u001b[K, ...);\n",
            "      |                    \u001b[01;36m\u001b[K~~~~~~~~~~~~~~~~~~~~~~~^~~~~~~~\u001b[m\u001b[K\n",
            "\u001b[01m\u001b[Khelloworld.c:5:9:\u001b[m\u001b[K \u001b[01;35m\u001b[Kwarning: \u001b[m\u001b[Kformat not a string literal and no format arguments [\u001b[01;35m\u001b[K\u001b]8;;https://gcc.gnu.org/onlinedocs/gcc/Warning-Options.html#index-Wformat-security\u0007-Wformat-security\u001b]8;;\u0007\u001b[m\u001b[K]\n",
            "    5 |   \u001b[01;35m\u001b[Kprintf('Hello World!')\u001b[m\u001b[K;\n",
            "      |   \u001b[01;35m\u001b[K~~~~~~^~~~~~~~~~~~~~~~\u001b[m\u001b[K\n",
            "Hello World!"
          ]
        }
      ]
    },
    {
      "cell_type": "markdown",
      "metadata": {
        "id": "yiHZm-uLWMSM"
      },
      "source": [
        "Finally let's think about the return function. Try taking it out and seing what the difference is."
      ]
    },
    {
      "cell_type": "code",
      "execution_count": 11,
      "metadata": {
        "id": "bd-Y0_ULWMSN"
      },
      "outputs": [],
      "source": []
    },
    {
      "cell_type": "markdown",
      "metadata": {
        "id": "ddfFIRWkWMSN"
      },
      "source": [
        "The return function essentially provides the 'exit code' to your 'main' function. C and C++ use this although in C++ the compiler can add this automatically, but it is still good practice to include it yourself.\n",
        "\n",
        "In one of the basic C libraries the exit stsua is defined like this:\n",
        "\n",
        "#define EXIT_SUCCESS    0\n",
        "\n",
        "#define EXIT_FAILURE    1\n",
        "\n",
        "Try adding a return 1; instead."
      ]
    },
    {
      "cell_type": "code",
      "execution_count": 11,
      "metadata": {
        "id": "s_EU1e2CWMSN"
      },
      "outputs": [],
      "source": []
    },
    {
      "cell_type": "markdown",
      "metadata": {
        "id": "eic-_ppjWMSN"
      },
      "source": [
        "What 'type' is the function 'main'?"
      ]
    },
    {
      "cell_type": "code",
      "execution_count": 11,
      "metadata": {
        "id": "lt6ldTtnWMSN"
      },
      "outputs": [],
      "source": []
    },
    {
      "cell_type": "markdown",
      "metadata": {
        "id": "JsDvEE4aWMSN"
      },
      "source": [
        "Printing thigns is always you friend when debugging so what about the printf statements in C - how do you make these readable? Look at these codes below what is the diffference?"
      ]
    },
    {
      "cell_type": "code",
      "execution_count": 12,
      "metadata": {
        "colab": {
          "base_uri": "https://localhost:8080/"
        },
        "id": "X8SRe14hWMSN",
        "outputId": "9b9e2f47-4061-46c1-9760-df54fbdc0ffe"
      },
      "outputs": [
        {
          "output_type": "stream",
          "name": "stdout",
          "text": [
            "Overwriting helloworld.c\n"
          ]
        }
      ],
      "source": [
        "%%writefile helloworld.c\n",
        "#include <stdio.h>\n",
        "\n",
        "int main() {\n",
        "  // I am a comment!\n",
        "  printf(\"Hello World!\");\n",
        "  printf(\"Hello Again!\");\n",
        "  return 0;\n",
        "}"
      ]
    },
    {
      "cell_type": "code",
      "source": [
        "! g++ helloworld.c -o helloPrograms\n",
        "! ./helloPrograms"
      ],
      "metadata": {
        "colab": {
          "base_uri": "https://localhost:8080/"
        },
        "id": "QbOQo9BuWcNm",
        "outputId": "85004139-02b3-4c9e-9e74-84749055829b"
      },
      "execution_count": 13,
      "outputs": [
        {
          "output_type": "stream",
          "name": "stdout",
          "text": [
            "Hello World!Hello Again!"
          ]
        }
      ]
    },
    {
      "cell_type": "code",
      "execution_count": 14,
      "metadata": {
        "colab": {
          "base_uri": "https://localhost:8080/"
        },
        "id": "8XIaFaDCWMSN",
        "outputId": "93626ddb-1a39-41b6-8eac-57f13f27f96c"
      },
      "outputs": [
        {
          "output_type": "stream",
          "name": "stdout",
          "text": [
            "Overwriting helloworld.c\n"
          ]
        }
      ],
      "source": [
        "%%writefile helloworld.c\n",
        "#include <stdio.h>\n",
        "\n",
        "int main() {\n",
        "  // I am a comment!\n",
        "  printf(\"Hello World!\\n\");\n",
        "  printf(\"Hello Again!\");\n",
        "  return 0;\n",
        "}"
      ]
    },
    {
      "cell_type": "code",
      "source": [
        "! g++ helloworld.c -o helloPrograms\n",
        "! ./helloPrograms"
      ],
      "metadata": {
        "colab": {
          "base_uri": "https://localhost:8080/"
        },
        "id": "zKDO0QTJWdNE",
        "outputId": "81004277-21d7-4200-8d7e-78cac60408e3"
      },
      "execution_count": 15,
      "outputs": [
        {
          "output_type": "stream",
          "name": "stdout",
          "text": [
            "Hello World!\n",
            "Hello Again!"
          ]
        }
      ]
    },
    {
      "cell_type": "code",
      "execution_count": 16,
      "metadata": {
        "colab": {
          "base_uri": "https://localhost:8080/"
        },
        "id": "bv7F1RmJWMSO",
        "outputId": "efd93d62-def6-44ba-9376-e8cb740695e7"
      },
      "outputs": [
        {
          "output_type": "stream",
          "name": "stdout",
          "text": [
            "Overwriting helloworld.c\n"
          ]
        }
      ],
      "source": [
        "%%writefile helloworld.c\n",
        "#include <stdio.h>\n",
        "\n",
        "int main() {\n",
        "  // I am a comment!\n",
        "  printf(\"Hello World!\\nHello Again!\");\n",
        "  return 0;\n",
        "}"
      ]
    },
    {
      "cell_type": "code",
      "source": [
        "! g++ helloworld.c -o helloPrograms\n",
        "! ./helloPrograms"
      ],
      "metadata": {
        "colab": {
          "base_uri": "https://localhost:8080/"
        },
        "id": "ob-_5M8lWeBR",
        "outputId": "71eaad25-04a4-453d-e00d-e93adba81239"
      },
      "execution_count": 17,
      "outputs": [
        {
          "output_type": "stream",
          "name": "stdout",
          "text": [
            "Hello World!\n",
            "Hello Again!"
          ]
        }
      ]
    },
    {
      "cell_type": "code",
      "execution_count": 18,
      "metadata": {
        "colab": {
          "base_uri": "https://localhost:8080/"
        },
        "id": "x7Pct2EIWMSO",
        "outputId": "2bc6e3ac-1df5-4d62-9f35-2f808022e6de"
      },
      "outputs": [
        {
          "output_type": "stream",
          "name": "stdout",
          "text": [
            "Overwriting helloworld.c\n"
          ]
        }
      ],
      "source": [
        "%%writefile helloworld.c\n",
        "#include <stdio.h>\n",
        "\n",
        "int main() {\n",
        "  // I am a comment!\n",
        "  printf(\"Hello World!\\n\\nHello Again!\");\n",
        "  return 0;\n",
        "}"
      ]
    },
    {
      "cell_type": "code",
      "source": [
        "! g++ helloworld.c -o helloPrograms\n",
        "! ./helloPrograms"
      ],
      "metadata": {
        "colab": {
          "base_uri": "https://localhost:8080/"
        },
        "id": "MrFCvJ4OWfKg",
        "outputId": "4f8796b6-c8d0-45d1-89b7-b8b858ba510b"
      },
      "execution_count": 19,
      "outputs": [
        {
          "output_type": "stream",
          "name": "stdout",
          "text": [
            "Hello World!\n",
            "\n",
            "Hello Again!"
          ]
        }
      ]
    },
    {
      "cell_type": "code",
      "execution_count": 20,
      "metadata": {
        "colab": {
          "base_uri": "https://localhost:8080/"
        },
        "id": "rjNnY9UfWMSO",
        "outputId": "865369dc-f7fe-4752-88de-6a9936eea692"
      },
      "outputs": [
        {
          "output_type": "stream",
          "name": "stdout",
          "text": [
            "Overwriting helloworld.c\n"
          ]
        }
      ],
      "source": [
        "%%writefile helloworld.c\n",
        "#include <stdio.h>\n",
        "\n",
        "int main() {\n",
        "  // I am a comment!\n",
        "  printf(\"Hello World!\\\\Hello Again!\");\n",
        "  return 0;\n",
        "}"
      ]
    },
    {
      "cell_type": "code",
      "source": [
        "! g++ helloworld.c -o helloPrograms\n",
        "! ./helloPrograms"
      ],
      "metadata": {
        "colab": {
          "base_uri": "https://localhost:8080/"
        },
        "id": "9ibuHTu2WgM8",
        "outputId": "0ad208b5-7c2b-4694-879f-6997ed5d9f30"
      },
      "execution_count": 21,
      "outputs": [
        {
          "output_type": "stream",
          "name": "stdout",
          "text": [
            "Hello World!\\Hello Again!"
          ]
        }
      ]
    },
    {
      "cell_type": "code",
      "execution_count": 22,
      "metadata": {
        "colab": {
          "base_uri": "https://localhost:8080/"
        },
        "id": "KTkfC8_cWMSO",
        "outputId": "2d31ee04-008d-4717-e8bf-79646d275059"
      },
      "outputs": [
        {
          "output_type": "stream",
          "name": "stdout",
          "text": [
            "Overwriting helloworld.c\n"
          ]
        }
      ],
      "source": [
        "%%writefile helloworld.c\n",
        "#include <stdio.h>\n",
        "\n",
        "int main() {\n",
        "  // I am a comment!\n",
        "  printf(\"Hello World!\\\"Hello Again!\");\n",
        "  return 0;\n",
        "}"
      ]
    },
    {
      "cell_type": "code",
      "source": [
        "! g++ helloworld.c -o helloPrograms\n",
        "! ./helloPrograms"
      ],
      "metadata": {
        "colab": {
          "base_uri": "https://localhost:8080/"
        },
        "id": "JpxebkD5WhGM",
        "outputId": "5d7fbde6-0477-46f3-c5bb-235660a6261f"
      },
      "execution_count": 23,
      "outputs": [
        {
          "output_type": "stream",
          "name": "stdout",
          "text": [
            "Hello World!\"Hello Again!"
          ]
        }
      ]
    },
    {
      "cell_type": "markdown",
      "metadata": {
        "id": "2tavJI_0WMSO"
      },
      "source": [
        "How would you get a horizontal 'tab' space? Take a guess."
      ]
    },
    {
      "cell_type": "code",
      "execution_count": 23,
      "metadata": {
        "id": "q9eJgO7vWMSO"
      },
      "outputs": [],
      "source": []
    },
    {
      "cell_type": "markdown",
      "metadata": {
        "id": "AwB1MTpMWMSO"
      },
      "source": [
        "What if we wanted to modify what has been writting in this \"hello world\" string. We could store the string in a varible and modify it there.\n",
        "\n",
        "We'll be looking at indexing and quotes etc later but what do you notice about this code below?"
      ]
    },
    {
      "cell_type": "code",
      "execution_count": 24,
      "metadata": {
        "colab": {
          "base_uri": "https://localhost:8080/"
        },
        "id": "3SypoyZbWMSP",
        "outputId": "4677becf-1733-48fd-d488-839f874f8ef6"
      },
      "outputs": [
        {
          "output_type": "stream",
          "name": "stdout",
          "text": [
            "Overwriting helloworld.c\n"
          ]
        }
      ],
      "source": [
        "%%writefile helloworld.c\n",
        "#include <stdio.h>\n",
        "\n",
        "int main() {\n",
        "  // I am a comment!\n",
        "  char myGreeting[] = \"Hello World!\";\n",
        "  myGreeting[0] = 'J';\n",
        "  myGreeting[6] = 'M';\n",
        "  myGreeting[8] = 'u';\n",
        "  printf(\"%s\", myGreeting);\n",
        "  return 0;\n",
        "}\n"
      ]
    },
    {
      "cell_type": "code",
      "source": [
        "! g++ helloworld.c -o helloPrograms\n",
        "! ./helloPrograms"
      ],
      "metadata": {
        "colab": {
          "base_uri": "https://localhost:8080/"
        },
        "id": "Jokq7NJvWiQJ",
        "outputId": "facf510c-3d1c-4554-b260-1ead89e2d993"
      },
      "execution_count": 25,
      "outputs": [
        {
          "output_type": "stream",
          "name": "stdout",
          "text": [
            "Jello Mould!"
          ]
        }
      ]
    },
    {
      "cell_type": "code",
      "execution_count": 25,
      "metadata": {
        "id": "EEKXRnFAWMSP"
      },
      "outputs": [],
      "source": []
    }
  ],
  "metadata": {
    "kernelspec": {
      "display_name": "C",
      "language": "c",
      "name": "c"
    },
    "language_info": {
      "file_extension": ".c",
      "mimetype": "text/plain",
      "name": "c"
    },
    "colab": {
      "provenance": []
    }
  },
  "nbformat": 4,
  "nbformat_minor": 0
}