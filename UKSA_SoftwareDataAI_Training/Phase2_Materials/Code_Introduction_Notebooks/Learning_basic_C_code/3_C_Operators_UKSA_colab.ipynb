{
  "cells": [
    {
      "cell_type": "markdown",
      "metadata": {
        "id": "tahKmYwIy_Ds"
      },
      "source": [
        "# C - Operators\n",
        "\n",
        "In this notebook we'll be looking at operators and how they work - this should be relatively familiar from other coding languages."
      ]
    },
    {
      "cell_type": "markdown",
      "metadata": {
        "id": "STyIyJEsy_Du"
      },
      "source": [
        "## Arithmetic operators\n",
        "\n",
        "* +\n",
        "* -\n",
        "* /\n",
        "* *\n",
        "\n",
        "* %\n",
        "* ++\n",
        "* --\n"
      ]
    },
    {
      "cell_type": "markdown",
      "metadata": {
        "id": "nYP6vJJty_Du"
      },
      "source": [
        "Q1: x = 1.2 and y = 1.3 write out a code which prints the sum (x+y), subtraction (x-y), division (x/y) and multiplication (x*y) with 1 decimal place only."
      ]
    },
    {
      "cell_type": "code",
      "execution_count": null,
      "metadata": {
        "id": "dLwUIplry_Du",
        "outputId": "08df04e2-71a1-4126-e397-cd908b12c673"
      },
      "outputs": [
        {
          "name": "stdout",
          "output_type": "stream",
          "text": [
            "2.5\n",
            "-0.1\n",
            "0.9\n",
            "1.6\n"
          ]
        }
      ],
      "source": [
        "%%writefile helloworld.c\n",
        "#include <stdio.h>\n",
        "\n",
        "int main() {\n",
        "\n",
        "  float x = 1.2, y=1.3;\n",
        "  float sum = x + y;\n",
        "  float sub = x - y;\n",
        "  float div = x / y;\n",
        "  float mul = x * y;\n",
        "\n",
        "  printf(\"%0.1f\\n\", sum);\n",
        "  printf(\"%0.1f\\n\", sub);\n",
        "  printf(\"%0.1f\\n\", div);\n",
        "  printf(\"%0.1f\\n\", mul);\n",
        "\n",
        "  return 0;\n",
        "\n",
        "}"
      ]
    },
    {
      "cell_type": "code",
      "source": [
        "! g++ helloworld.c -o helloPrograms\n",
        "! ./helloPrograms"
      ],
      "metadata": {
        "id": "SyYOfjT2zCIJ"
      },
      "execution_count": null,
      "outputs": []
    },
    {
      "cell_type": "markdown",
      "metadata": {
        "id": "u6CUvByFy_Dv"
      },
      "source": [
        "Q2: x = 6 and y = 2 are integers. Write out a code which prints the division (x/y) as a float and the division remainder as an integer."
      ]
    },
    {
      "cell_type": "code",
      "execution_count": null,
      "metadata": {
        "id": "HHhA37tQy_Dv",
        "outputId": "bbc1e634-0005-453e-ee3b-380882c5aa2c"
      },
      "outputs": [
        {
          "name": "stdout",
          "output_type": "stream",
          "text": [
            "3.0\n",
            "0\n"
          ]
        }
      ],
      "source": [
        "%%writefile helloworld.c\n",
        "#include <stdio.h>\n",
        "\n",
        "int main() {\n",
        "\n",
        "  int x = 6, y=2;\n",
        "  float div = x / y;\n",
        "  int mod = x % y;\n",
        "\n",
        "  printf(\"%0.1f\\n\", div);\n",
        "  printf(\"%d\\n\", mod);\n",
        "\n",
        "  return 0;\n",
        "\n",
        "}"
      ]
    },
    {
      "cell_type": "code",
      "source": [
        "! g++ helloworld.c -o helloPrograms\n",
        "! ./helloPrograms"
      ],
      "metadata": {
        "id": "G2Jnz8hMzDIk"
      },
      "execution_count": null,
      "outputs": []
    },
    {
      "cell_type": "markdown",
      "metadata": {
        "id": "b8sKDfSfy_Dw"
      },
      "source": [
        "Q3: If x and y are defined as floats what happens? Why?"
      ]
    },
    {
      "cell_type": "code",
      "execution_count": null,
      "metadata": {
        "id": "myuXBeF6y_Dw"
      },
      "outputs": [],
      "source": []
    },
    {
      "cell_type": "markdown",
      "metadata": {
        "id": "G7dcUrfay_Dw"
      },
      "source": [
        "Q4: x = 10. Only defining x once, use ++ and -- to write a code which prints the value 11 and 9. Make sure to print the values on new lines."
      ]
    },
    {
      "cell_type": "code",
      "execution_count": null,
      "metadata": {
        "id": "3h53wnlSy_Dx",
        "outputId": "677aceed-113b-44cc-ca8d-3d2e46026ae9"
      },
      "outputs": [
        {
          "name": "stdout",
          "output_type": "stream",
          "text": [
            "11\n",
            "9"
          ]
        }
      ],
      "source": [
        "%%writefile helloworld.c\n",
        "#include <stdio.h>\n",
        "\n",
        "int main() {\n",
        "  int x = 10;\n",
        "  printf(\"%d\\n\", ++x);\n",
        "  --x;\n",
        "  printf(\"%d\", --x);\n",
        "  return 0;\n",
        "}"
      ]
    },
    {
      "cell_type": "code",
      "source": [
        "! g++ helloworld.c -o helloPrograms\n",
        "! ./helloPrograms"
      ],
      "metadata": {
        "id": "DvMGAj5DzEPv"
      },
      "execution_count": null,
      "outputs": []
    },
    {
      "cell_type": "markdown",
      "metadata": {
        "id": "8D-9fNwhy_Dx"
      },
      "source": [
        "## Assignment operators\n",
        "\n",
        "* =\n",
        "* +=\n",
        "* -=\n",
        "* *=\n",
        "* /=\n",
        "* %=\n",
        "\n",
        "The below are bitwise operators which can also operate on themselves with the sign\n",
        "\n",
        "* ~ or ~=\n",
        "* & or &=\n",
        "* | or |=\n",
        "* ^ or ^=\n",
        "* \\>\\> or \\>\\>=\n",
        "* << or <<="
      ]
    },
    {
      "cell_type": "markdown",
      "metadata": {
        "id": "NHcngX3gy_Dx"
      },
      "source": [
        "Q1: To find the meaning of life, assign 5 to the integer datatype x. Add 10 to it and then subtract 2, divide it by 2 and multiply it by 7, find the remainder when dividing by 43, do this using assigment operators only."
      ]
    },
    {
      "cell_type": "code",
      "execution_count": null,
      "metadata": {
        "id": "D0vvuRvly_Dx",
        "outputId": "73c0894c-480e-442e-efd0-9a7e8fa25833"
      },
      "outputs": [
        {
          "name": "stdout",
          "output_type": "stream",
          "text": [
            "42"
          ]
        }
      ],
      "source": [
        "%%writefile helloworld.c\n",
        "#include <stdio.h>\n",
        "\n",
        "int main() {\n",
        "  int x = 5;\n",
        "  x += 10;\n",
        "  x -= 2;\n",
        "  x /= 2;\n",
        "  x *= 7;\n",
        "  x %= 43;\n",
        "  printf(\"%d\", x);\n",
        "  return 0;\n",
        "}"
      ]
    },
    {
      "cell_type": "code",
      "source": [
        "! g++ helloworld.c -o helloPrograms\n",
        "! ./helloPrograms"
      ],
      "metadata": {
        "id": "1uuP5ZH9zFnZ"
      },
      "execution_count": null,
      "outputs": []
    },
    {
      "cell_type": "markdown",
      "metadata": {
        "id": "hN6VahVLy_Dx"
      },
      "source": [
        "## Comparison operators\n",
        "\n",
        "* ==\n",
        "* !=\n",
        "* \\>\n",
        "* <\n",
        "* \\>=\n",
        "* <="
      ]
    },
    {
      "cell_type": "markdown",
      "metadata": {
        "id": "k3lxRjzIy_Dx"
      },
      "source": [
        "Q1: Make some changes in the code below and check you understand what is happening."
      ]
    },
    {
      "cell_type": "code",
      "execution_count": null,
      "metadata": {
        "id": "VxT1d1U5y_Dx",
        "outputId": "5cba4620-55bc-4290-ad87-581316427a90"
      },
      "outputs": [
        {
          "name": "stdout",
          "output_type": "stream",
          "text": [
            "0\n",
            "1\n",
            "1\n",
            "0\n"
          ]
        }
      ],
      "source": [
        "%%writefile helloworld.c\n",
        "#include <stdio.h>\n",
        "\n",
        "int main() {\n",
        "  int x = 5;\n",
        "  int y = 6;\n",
        "\n",
        "  printf(\"%d\\n\", x == y);\n",
        "  /* this will return a 0 (false) because\n",
        "  5 is not equal to 6. Make it another 5\n",
        "  and lets see what it returns. */\n",
        "\n",
        "  printf(\"%d\\n\", x != y);\n",
        "  /* this will return a 1 (truth) because\n",
        "  5 is not equal to 6. Make it another 5\n",
        "  and lets see what it returns. */\n",
        "\n",
        "  printf(\"%d\\n\", x <= y);\n",
        "  /* this will return a 1 (truth) because\n",
        "  5 is less than or equal to 6. */\n",
        "\n",
        "  printf(\"%d\\n\", x > y);\n",
        "  /* this will return a 0 (false) because\n",
        "  5 is not less than 6. */\n",
        "\n",
        "return 0;\n",
        "}"
      ]
    },
    {
      "cell_type": "code",
      "source": [
        "! g++ helloworld.c -o helloPrograms\n",
        "! ./helloPrograms"
      ],
      "metadata": {
        "id": "WOpngUyezHTB"
      },
      "execution_count": null,
      "outputs": []
    },
    {
      "cell_type": "markdown",
      "metadata": {
        "id": "wZTlcTv8y_Dy"
      },
      "source": [
        "### Logical operators\n",
        "\n",
        "* &&\n",
        "* ||\n",
        "* !"
      ]
    },
    {
      "cell_type": "markdown",
      "metadata": {
        "id": "CiCTkNqwy_Dy"
      },
      "source": [
        "Q1: Test these operators in a simialr way as the code above. What are the range of values they return and under what conditions do they return them?"
      ]
    },
    {
      "cell_type": "code",
      "execution_count": null,
      "metadata": {
        "id": "J5dXWHjUy_Dy"
      },
      "outputs": [],
      "source": []
    },
    {
      "cell_type": "markdown",
      "metadata": {
        "id": "woGuMfNpy_Dy"
      },
      "source": [
        "## Sizeof operator\n",
        "\n",
        "This gives us the size in bytes of the datatype. Datatypes are usually defined as 'at least this size'.\n",
        "\n",
        "1 byte is either from -127 to 127 or 0 to 255.\n",
        "\n",
        "A byte is typically defined as 8 bits.\n",
        "\n",
        "2^8 is 256. We'll look at base conversions when we think about memory."
      ]
    },
    {
      "cell_type": "code",
      "execution_count": null,
      "metadata": {
        "id": "q-yE-rl4y_Dy",
        "outputId": "46be9ec7-f3ef-427b-b462-7c5598a9780c"
      },
      "outputs": [
        {
          "name": "stdout",
          "output_type": "stream",
          "text": [
            "int: 4\n",
            "short or short int: 2\n",
            "long or long int 8\n",
            "long long or long long int: 8\n",
            "float: 4\n",
            "double: 8\n",
            "long double: 16\n",
            "char: 1\n",
            "string or size 10 char: 10\n"
          ]
        }
      ],
      "source": [
        "%%writefile helloworld.c\n",
        "#include <stdio.h>\n",
        "\n",
        "int main() {\n",
        "  int myInt;\n",
        "  short myShortInt;\n",
        "  long myLongInt;\n",
        "  long long myLongerInt;\n",
        "  float myFloat;\n",
        "  double myDouble;\n",
        "  long double myLongDouble;\n",
        "  char myChar;\n",
        "  char myString[10];\n",
        "\n",
        "  printf(\"int: %lu\\n\", sizeof(myInt));\n",
        "  printf(\"short or short int: %lu\\n\", sizeof(myShortInt));\n",
        "  printf(\"long or long int %lu\\n\", sizeof(myLongInt));\n",
        "  printf(\"long long or long long int: %lu\\n\", sizeof(myLongerInt));\n",
        "  printf(\"float: %lu\\n\", sizeof(myFloat));\n",
        "  printf(\"double: %lu\\n\", sizeof(myDouble));\n",
        "  printf(\"long double: %lu\\n\", sizeof(myLongDouble));\n",
        "  printf(\"char: %lu\\n\", sizeof(myChar));\n",
        "  printf(\"string or size 10 char: %lu\\n\", sizeof(myString));\n",
        "\n",
        "  return 0;\n",
        "}"
      ]
    },
    {
      "cell_type": "code",
      "source": [
        "! g++ helloworld.c -o helloPrograms\n",
        "! ./helloPrograms"
      ],
      "metadata": {
        "id": "cK5PF9CXzIrX"
      },
      "execution_count": null,
      "outputs": []
    },
    {
      "cell_type": "code",
      "execution_count": null,
      "metadata": {
        "id": "azl7ygNky_Dy"
      },
      "outputs": [],
      "source": []
    }
  ],
  "metadata": {
    "kernelspec": {
      "display_name": "C",
      "language": "c",
      "name": "c"
    },
    "language_info": {
      "file_extension": ".c",
      "mimetype": "text/plain",
      "name": "c"
    },
    "colab": {
      "provenance": []
    }
  },
  "nbformat": 4,
  "nbformat_minor": 0
}