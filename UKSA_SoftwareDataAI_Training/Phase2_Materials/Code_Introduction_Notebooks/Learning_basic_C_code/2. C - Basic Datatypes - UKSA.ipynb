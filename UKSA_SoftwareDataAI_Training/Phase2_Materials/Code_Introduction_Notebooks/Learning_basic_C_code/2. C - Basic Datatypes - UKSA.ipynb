{
 "cells": [
  {
   "cell_type": "markdown",
   "metadata": {},
   "source": [
    "# C - Data types\n",
    "\n",
    "In this notebook we will look at basic data types for varibles and how to declare them and use them. We will also look at simple math fucntions using the math.h library. \n",
    "\n",
    "Basic types:\n",
    "* int\n",
    "* char\n",
    "* float\n",
    "* double\n",
    "\n",
    "In C you MUST define everything. This is unlike python where it would take a guess on your datatype. \n",
    "\n",
    "To define thigns in C we use this notation:\n",
    "\n",
    "Define_type Variable_name = variable_value;\n"
   ]
  },
  {
   "cell_type": "markdown",
   "metadata": {},
   "source": [
    "### Variable names\n",
    "\n",
    "There are some rules to creating varible names in C. Namely, these:\n",
    "\n",
    "* Variable names can be formed from letters, digits and underscores BUT must start with a letter or underscore\n",
    "* Variable names are case sensitive - we saw this in last notebook\n",
    "* Variabl names cannot contain whitespaces or special characters\n",
    "* There are some names which are reserved for built-in functions or datatypes such as 'float'. These cannot be used as variable names. Even if they could - this is v bad practice!"
   ]
  },
  {
   "cell_type": "markdown",
   "metadata": {},
   "source": [
    "### Const\n",
    "\n",
    "If you do not want things to change then use 'const' infront of them - try this out on occasions through the code below.\n",
    "\n",
    "Good practice - when you want something to remain constant it is good practice to define the names with entirely uppercase latters. "
   ]
  },
  {
   "cell_type": "markdown",
   "metadata": {},
   "source": [
    "### int: short, long, regular..."
   ]
  },
  {
   "cell_type": "markdown",
   "metadata": {},
   "source": [
    "We can define intergers in a couple of ways like this below. "
   ]
  },
  {
   "cell_type": "code",
   "execution_count": 5,
   "metadata": {},
   "outputs": [
    {
     "name": "stdout",
     "output_type": "stream",
     "text": [
      "An integer\n",
      "Another integer"
     ]
    }
   ],
   "source": [
    "#include <stdio.h>\n",
    "\n",
    "int main() {\n",
    "  int an_integer = 10;\n",
    "  int another_integer;\n",
    "  another_integer = 25;\n",
    "  printf(\"An integer\\n\", an_integer);\n",
    "  printf(\"Another integer\", another_integer);\n",
    "  return 0;\n",
    "}"
   ]
  },
  {
   "cell_type": "markdown",
   "metadata": {},
   "source": [
    "Is the printout above what you wanted? \n",
    "\n",
    "As a quick aside - try to 'printf' an_integer but without the string infront of it. What happens?"
   ]
  },
  {
   "cell_type": "code",
   "execution_count": null,
   "metadata": {},
   "outputs": [],
   "source": []
  },
  {
   "cell_type": "markdown",
   "metadata": {},
   "source": [
    "Now try the below. In C we require the use of 'format specifiers' for the use of the 'printf' function. Remember, in C, always define everything, all the time!  "
   ]
  },
  {
   "cell_type": "code",
   "execution_count": 8,
   "metadata": {},
   "outputs": [
    {
     "name": "stdout",
     "output_type": "stream",
     "text": [
      "10\n",
      "25"
     ]
    }
   ],
   "source": [
    "#include <stdio.h>\n",
    "\n",
    "int main() {\n",
    "  int an_integer = 10;\n",
    "  int another_integer;\n",
    "  another_integer = 25;\n",
    "  printf(\"%d\\n\", an_integer);\n",
    "  printf(\"%d\", another_integer);\n",
    "  return 0;\n",
    "}"
   ]
  },
  {
   "cell_type": "markdown",
   "metadata": {},
   "source": [
    "You can add text and a varible using the format specifiers as well as the text - try to get the output:\n",
    "\n",
    "* An integer 10\n",
    "* Another integer 25\n",
    "\n",
    "by modifing the code above."
   ]
  },
  {
   "cell_type": "code",
   "execution_count": null,
   "metadata": {},
   "outputs": [],
   "source": []
  },
  {
   "cell_type": "markdown",
   "metadata": {},
   "source": [
    "To do arithmetic on things we still need to declare them."
   ]
  },
  {
   "cell_type": "code",
   "execution_count": 13,
   "metadata": {},
   "outputs": [
    {
     "name": "stdout",
     "output_type": "stream",
     "text": [
      "3"
     ]
    }
   ],
   "source": [
    "#include <stdio.h>\n",
    "\n",
    "int main () {\n",
    "  int x = 1;\n",
    "  int y = 2;\n",
    "  int sum = x + y;\n",
    "  printf(\"%d\", sum);\n",
    "  return 0;\n",
    "}"
   ]
  },
  {
   "cell_type": "markdown",
   "metadata": {},
   "source": [
    "We can also declare many things at once - a bit quicker when C is pretty slow to write. However, use this with caution when you are new to C as it makes debugging more dificult. \n",
    "\n",
    "Note I can even define 'sum' on the same line and note also the use of commas rather than semi-colons. "
   ]
  },
  {
   "cell_type": "code",
   "execution_count": 18,
   "metadata": {},
   "outputs": [],
   "source": [
    "#include <stdio.h>\n",
    "\n",
    "int main () {\n",
    "  int x = 1, y = 2, sum = x + y;\n",
    "  printf(\"%d\", sum);\n",
    "  return 0;\n",
    "}"
   ]
  },
  {
   "cell_type": "markdown",
   "metadata": {},
   "source": [
    "There are also short integers and long integers. \n",
    "\n",
    "Size matters to these datatypes - to all datatypes really but in C you need ot worry about this upfront. Investigate this below.\n",
    "\n",
    "What happens as you change these values and make them larger?\n",
    "\n",
    "Why, what are the limits?"
   ]
  },
  {
   "cell_type": "code",
   "execution_count": 10,
   "metadata": {},
   "outputs": [
    {
     "name": "stdout",
     "output_type": "stream",
     "text": [
      "num1 is 10000\n",
      "num2 is 2000000000\n",
      "num3 is 30000000000\n",
      "num4 is 4000000000000000000\n",
      "sum is 4000000030000000000"
     ]
    }
   ],
   "source": [
    "#include <stdio.h>\n",
    "\n",
    "int main(void) {\n",
    "short int num1 = 10000;\n",
    "int num2 = 2000000000;\n",
    "long num3 = 30000000000;\n",
    "long num4 = 4000000000000000000;\n",
    "long long sum = num3 + num4; // to sum we still need to declare the type\n",
    "\n",
    "printf(\"num1 is %hd\\nnum2 is %d\\nnum3 is %ld\\nnum4 is %ld\\nsum is %lld\", num1, num2, num3, num4, sum);\n",
    "return 0;\n",
    "\n",
    "}"
   ]
  },
  {
   "cell_type": "markdown",
   "metadata": {},
   "source": [
    "There is an operator in C called sizeof() which gives the size of things in bytes. Use this to investigate the size in bytes for each of these types of integer. "
   ]
  },
  {
   "cell_type": "code",
   "execution_count": null,
   "metadata": {},
   "outputs": [],
   "source": []
  },
  {
   "cell_type": "markdown",
   "metadata": {},
   "source": [
    "### char\n",
    "\n",
    "Try changing the size of the char array - what happens? What error is recived and why? Notice the single and double quaotation marks. For a single character single quotes are used but for a string double-quotes must be used."
   ]
  },
  {
   "cell_type": "code",
   "execution_count": 98,
   "metadata": {},
   "outputs": [
    {
     "name": "stdout",
     "output_type": "stream",
     "text": [
      "group is B, name is Student1"
     ]
    }
   ],
   "source": [
    "#include <stdio.h>\n",
    "\n",
    "int main() {\n",
    "char group = 'B';\n",
    "//To print a name or a full string, we need to define char array. \n",
    "\n",
    "char name[10] = \"Student1\";\n",
    "printf(\"group is %c, name is %s\", group, name);\n",
    "\n",
    "}"
   ]
  },
  {
   "cell_type": "markdown",
   "metadata": {},
   "source": [
    "### float"
   ]
  },
  {
   "cell_type": "code",
   "execution_count": 99,
   "metadata": {},
   "outputs": [
    {
     "name": "stdout",
     "output_type": "stream",
     "text": [
      "height is 1.665000\n",
      "age is 67.000000"
     ]
    }
   ],
   "source": [
    "#include <stdio.h>\n",
    "\n",
    "int main() {\n",
    "\n",
    " float height = 1.665;\n",
    " float age = 67;\n",
    " printf(\"height is %f\\n\", height);\n",
    " printf(\"age is %f\", age);\n",
    "\n",
    "}"
   ]
  },
  {
   "cell_type": "markdown",
   "metadata": {},
   "source": [
    "### double\n",
    "\n",
    "In this example why is the printed output on the same line?"
   ]
  },
  {
   "cell_type": "code",
   "execution_count": 100,
   "metadata": {},
   "outputs": [
    {
     "name": "stdout",
     "output_type": "stream",
     "text": [
      "average is 679999999.454000, score is 680000000.000000"
     ]
    }
   ],
   "source": [
    "#include <stdio.h>\n",
    "\n",
    "int main() {\n",
    "\n",
    "double average = 679999999.454;\n",
    "float score = 679999999.454;\n",
    "printf(\"average is %lf\", average);\n",
    "printf(\", score is %f\", score);\n",
    "\n",
    "}"
   ]
  },
  {
   "cell_type": "markdown",
   "metadata": {},
   "source": [
    "## math.h\n",
    "\n",
    "As with python there are plenty of C libraries written to enable you to do things efficiently without re-inventing the wheel. \n",
    "\n",
    "One such particularly useful library is math.h. This contains most standard math expressions. \n",
    "\n",
    "What do each of the below do?\n"
   ]
  },
  {
   "cell_type": "code",
   "execution_count": 8,
   "metadata": {},
   "outputs": [
    {
     "name": "stdout",
     "output_type": "stream",
     "text": [
      "4.000000\n",
      "2.000000\n",
      "64.000000\n",
      "2.000000\n",
      "1.000000\n",
      "12.182494\n",
      "0.693147\n",
      "0.397940\n",
      "-0.801144\n",
      "0.598472\n",
      "-0.747022\n"
     ]
    }
   ],
   "source": [
    "#include <stdio.h>\n",
    "#include <math.h>\n",
    "\n",
    "int main() {\n",
    "\n",
    "    printf(\"%f\\n\", sqrt(16));\n",
    "    printf(\"%f\\n\", cbrt(8));\n",
    "    printf(\"%f\\n\", pow(4, 3));\n",
    "    \n",
    "    printf(\"%f\\n\", ceil(1.4));\n",
    "    printf(\"%f\\n\", floor(1.4));\n",
    "\n",
    "    printf(\"%f\\n\", exp(2.5));\n",
    "    printf(\"%f\\n\", log(2.0));\n",
    "    printf(\"%f\\n\", log10(2.5));\n",
    "\n",
    "    printf(\"%f\\n\", cos(2.5));\n",
    "    printf(\"%f\\n\", sin(2.5));\n",
    "    printf(\"%f\\n\", tan(2.5));\n",
    "\n",
    "}"
   ]
  },
  {
   "cell_type": "markdown",
   "metadata": {},
   "source": [
    "Q: Write a code which calculates the number of bits in a short, regular and long integer. "
   ]
  },
  {
   "cell_type": "code",
   "execution_count": null,
   "metadata": {},
   "outputs": [],
   "source": []
  },
  {
   "cell_type": "markdown",
   "metadata": {},
   "source": [
    "Q: Calculate the number of bits in a float and in a double. "
   ]
  },
  {
   "cell_type": "code",
   "execution_count": null,
   "metadata": {},
   "outputs": [],
   "source": []
  },
  {
   "cell_type": "markdown",
   "metadata": {},
   "source": [
    "Q: Write a code which converts the value 456 in base-2, base-8 and base-16. "
   ]
  },
  {
   "cell_type": "code",
   "execution_count": null,
   "metadata": {},
   "outputs": [],
   "source": []
  }
 ],
 "metadata": {
  "kernelspec": {
   "display_name": "C",
   "language": "c",
   "name": "c"
  },
  "language_info": {
   "file_extension": ".c",
   "mimetype": "text/plain",
   "name": "c"
  }
 },
 "nbformat": 4,
 "nbformat_minor": 4
}
