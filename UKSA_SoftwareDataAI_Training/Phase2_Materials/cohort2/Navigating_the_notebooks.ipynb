{
 "cells": [
  {
   "cell_type": "markdown",
   "id": "bb68f4c4-f1f0-46e4-aa09-56e8cc294da0",
   "metadata": {},
   "source": [
    "### Full Course Learning Outcomes\n",
    "<div class=\"alert alert-block alert-info\"> \n",
    "<b>NOTE</b>\n",
    "    <li>Delegates will have a good general overview of breadth of the space sector</li>\n",
    "    <li>Delegates will have a good understanding of how to find and access EO data with python and how to manipulate spatial data</li>\n",
    "    <li>Delegates will understand the building blocks of a Neural Network AND will be able to build such a network in PyTorch</li>\n",
    "    <li>Delegates will understand and be able to build visulisation methods for a Neural Network</li>\n",
    "    <li>Delegates will have a good understanding of the jargon in the AI/Data science field and know where to go to find more specific help</li>\n",
    "    <li>Delegates will have a good understanding of important datascience topics related to cyber security, ethics and bid writing</li>\n",
    "    <li>Delegates will have a deeper knowledge of an area of datascience, of their choosing, applied to space data by investiagting a dataset in detail over an 8-week project. </li>\n",
    "</div>"
   ]
  },
  {
   "cell_type": "markdown",
   "id": "5c23a4c3-9dbb-4c8f-8955-7e0543fa9ba6",
   "metadata": {},
   "source": [
    "# Course cheat sheets"
   ]
  },
  {
   "cell_type": "markdown",
   "id": "cf89c3eb-0040-445d-a007-547c165a7198",
   "metadata": {},
   "source": [
    "# Navigating the course jupyter notebooks "
   ]
  },
  {
   "cell_type": "markdown",
   "id": "2f5c7a48-a60d-4c65-afc0-47f9ea263ad9",
   "metadata": {},
   "source": [
    "You can collapse titles in jupyter notebooks to keep them tidy. If you hover over a bolded title you will see a small arrow to the left hand side of it - this is collapse or show the code blocks below it. "
   ]
  },
  {
   "cell_type": "markdown",
   "id": "7742d52b-fc56-422d-86bc-75b90601c656",
   "metadata": {},
   "source": [
    "### Learning Outcomes are written in Blue\n",
    "<div class=\"alert alert-block alert-info\"> \n",
    "<b>NOTE</b> In this notebook we will advance our NN coding in PyTorch. Specifically we will:\n",
    "    <li>Consider 'Training', 'Verification' and 'Testing' samples</li>\n",
    "    <li>Train with 'Batches'</li>\n",
    "    <li>Save and display the 'loss' during training</li>\n",
    "    <li>Understand when to stop training</li>\n",
    "</div>"
   ]
  },
  {
   "cell_type": "markdown",
   "id": "0093018a-0182-4df9-b2fd-6245c35b4d0c",
   "metadata": {},
   "source": [
    "<div class=\"alert alert-block alert-success\"> \n",
    " <strong>Exercises are written in green</strong>\n",
    " <br>\n",
    " Go through the model line-by-line and make sure you understand that it is the same as before.\n",
    "</div>"
   ]
  },
  {
   "cell_type": "markdown",
   "id": "064cd302-6f8f-48f8-b38f-2594c9f03ec5",
   "metadata": {},
   "source": [
    "<div class=\"alert alert-block alert-warning\">\n",
    "Orange boxes are alerts to draw attention.\n",
    "</div>"
   ]
  },
  {
   "cell_type": "markdown",
   "id": "165403d5-0521-4ec2-b575-88f9dffe5cab",
   "metadata": {},
   "source": [
    "We choose not to use html reb boxes - these are quite harsh and best not used unless drawing attention to an error. "
   ]
  },
  {
   "cell_type": "markdown",
   "id": "b6eb02c5-147a-4545-95ee-896ae80eb517",
   "metadata": {},
   "source": [
    "# A linux cheat sheet"
   ]
  },
  {
   "cell_type": "markdown",
   "id": "81a89d46-105d-46a7-b775-3863e4641513",
   "metadata": {},
   "source": [
    "* List\n",
    "  >ls\n",
    "  \n",
    "  >ls -lrht  (provides time ordered, human readable list of files and folders)\n",
    "* Change directory\n",
    "  >cd\n",
    "  \n",
    "  >cd ..  (change dir to one folder up)\n",
    "* Move\n",
    "  >mv\n",
    "* Copy\n",
    "  >cp\n",
    "* Activate a conda environment on terminal such as our ml-env environment\n",
    "  >conda activate ml-env\n",
    "* Print the location of where you are in your drives\n",
    "  >pwd\n",
    "* Make a directory\n",
    "  >mkdir\n",
    "* Shortcut for your 'home' directory\n",
    "  >$HOME"
   ]
  },
  {
   "cell_type": "markdown",
   "id": "dc93b4fb-8181-4550-8804-e0add71584f1",
   "metadata": {},
   "source": [
    "# A Github cheat sheet"
   ]
  },
  {
   "cell_type": "markdown",
   "id": "905e5ec6-336f-4f78-9b78-ab6e11dd1e3a",
   "metadata": {},
   "source": [
    "* In order for the remote (internet version) and the local (version on your computer or on the cluster) to talk to each other you need ot have the appropriate credentials. You can set up a ssh key for this. Never share your private key. Follow the directions here: https://docs.github.com/en/authentication/connecting-to-github-with-ssh/generating-a-new-ssh-key-and-adding-it-to-the-ssh-agent\n",
    "  > ssh-keygen -t ed25519 -C \"your_email@example.com\"\n",
    "* Clone the course github (two approaches - you can also click on the green drop down menu to get the address for the clone)\n",
    "  > git clone https://github.com/reac2/UKSA_SoftwareDataAI_Training.git\n",
    "  \n",
    "  > git clone git@github.com:reac2/UKSA_SoftwareDataAI_Training.git\n",
    "![](git_clone.png)\n",
    "* Pull the coruse github. You should be somewhere from within the cloned or forked github files on your computer.\n",
    "  > git pull \n",
    "* Create, li a new git branch\n",
    "  > git branch new_branch_name\n",
    "* Change the branches on your local repository\n",
    "  > git checkout branch_name\n",
    "* Add the changed files to the commit queue\n",
    "  > git add *\n",
    "  \n",
    "  > git add filename\n",
    "* Commit your files and create a new version in log\n",
    "  > git commit -m \"my commit message here\"\n",
    "* Push your changes to the remote repository\n",
    "  > git push\n",
    "* On remote create a pull request and merge it - there is a prompt to delete the branch after a merge \n",
    "![](Pull_request.png)"
   ]
  },
  {
   "cell_type": "markdown",
   "id": "1eb8db73-956b-4610-a6a1-3adaedcc7f26",
   "metadata": {},
   "source": [
    "![](Github_pic.png)"
   ]
  },
  {
   "cell_type": "code",
   "execution_count": null,
   "id": "37ae8357-dd3e-44b4-b53f-eb7a6720fc2e",
   "metadata": {},
   "outputs": [],
   "source": []
  }
 ],
 "metadata": {
  "kernelspec": {
   "display_name": "ml-env",
   "language": "python",
   "name": "ml-env"
  },
  "language_info": {
   "codemirror_mode": {
    "name": "ipython",
    "version": 3
   },
   "file_extension": ".py",
   "mimetype": "text/x-python",
   "name": "python",
   "nbconvert_exporter": "python",
   "pygments_lexer": "ipython3",
   "version": "3.12.7"
  }
 },
 "nbformat": 4,
 "nbformat_minor": 5
}
