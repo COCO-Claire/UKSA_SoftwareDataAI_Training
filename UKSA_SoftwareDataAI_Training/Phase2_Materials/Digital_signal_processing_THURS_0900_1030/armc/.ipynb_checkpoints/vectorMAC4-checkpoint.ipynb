{
 "cells": [
  {
   "cell_type": "code",
   "execution_count": 1,
   "id": "1582c600-5df8-460a-bbc1-9a94c33380b9",
   "metadata": {},
   "outputs": [
    {
     "name": "stdout",
     "output_type": "stream",
     "text": [
      "Result: 70.000000\n"
     ]
    }
   ],
   "source": [
    "#include <stdio.h>\n",
    "#include <arm_neon.h>\n",
    "// Function to perform MAC operation on 4-element vectors\n",
    "float32_t mac_neon(float32_t *A, float32_t *B) {\n",
    "    // Load vectors A and B\n",
    "    float32x4_t a = vld1q_f32(A);\n",
    "    float32x4_t b = vld1q_f32(B);\n",
    "    // Perform element-wise multiplication\n",
    "    float32x4_t c = vmulq_f32(a, b);\n",
    "    // perform accumulation\n",
    "    float32_t result = vaddvq_f32(c);\n",
    "    return result;\n",
    "}\n",
    "\n",
    "int main() {\n",
    "    // Define 4-element vectors A and B\n",
    "    float32_t A[4] = {1.0, 2.0, 3.0, 4.0};\n",
    "    float32_t B[4] = {5.0, 6.0, 7.0, 8.0};\n",
    "    float32_t result;\n",
    "\n",
    "    // Perform MAC operation\n",
    "    result=mac_neon(A, B);\n",
    "\n",
    "    // Print the result\n",
    "    printf(\"Result: %f\\n\",result);\n",
    "\n",
    "    return 0;\n",
    "}\n"
   ]
  },
  {
   "cell_type": "code",
   "execution_count": null,
   "id": "238cdbbe-7beb-49b3-a38f-0a20e5971618",
   "metadata": {},
   "outputs": [],
   "source": []
  }
 ],
 "metadata": {
  "kernelspec": {
   "display_name": "C",
   "language": "c",
   "name": "c"
  },
  "language_info": {
   "file_extension": ".c",
   "mimetype": "text/plain",
   "name": "c"
  }
 },
 "nbformat": 4,
 "nbformat_minor": 5
}
