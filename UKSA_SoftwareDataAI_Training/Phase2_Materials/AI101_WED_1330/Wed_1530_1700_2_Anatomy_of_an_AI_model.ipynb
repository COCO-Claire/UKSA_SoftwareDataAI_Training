{
 "cells": [
  {
   "metadata": {
    "id": "a5f21feaab858bff"
   },
   "cell_type": "markdown",
   "source": [
    "# What is AI/ML and the theory of Neural Networks (Ben Floyd)\n",
    "\n",
    "TASK:\n",
    "Below we will see how to build a NN model in sklearn and PyTorch. Your task will be to build your own PyTorch model for thr fashionMNIST dataset.\n",
    "\n",
    "\n",
    "## Artificial Intelligence, Machine Learning, and Neural Networks\n",
    "Artificial intelligence is the field of research that involves methods to allow a machine to take input and make decisions based on that input. One of the methods used in this decision-making process is called \"machine learning\" where statistical models are used to process input data and perform tasks with this data without explict instructions. Neural networks are one such statistical model inspired by biological networks of neurons.\n",
    "\n",
    "### Basic Theory of Neural Networks\n",
    "<img alt=\"An example of a simple neural network with 6 input neurons, 2 hidden layers of 5 neurons each, and an output layer of 4 neurons. There are arrows connecting the neurons representing the weights in the network.\" height=\"400\" src=\"./Resources/neural_network_diagram.png\" title=\"Neural Network Diagram\" width=\"400\" align=\"center\"/>\n",
    "\n",
    "In a neural network, a neuron can be thought of a container that holds a number between `0` and `1` which indicates the strength of the \"activation\" of the neuron. (A better description would be that neurons are functions that map inputs to a value between `0` and `1`.) The neurons are connected with each other by weights that relate the association of neurons in one layer to neurons in another layer. A particular neuron's activation in the network is related to the wighted sum of all the activations of the neurons that connect to it proportional to the weight value connecting the neurons, $ w_{1} a_{1} + w_{2} a_{2} + \\cdots + w_{n} a_{n} $. We also apply a function to the weighted sum to make sure that the output value is within `0` and `1`. This often comes in the form of a function called a rectified linear unit, or `ReLU` for short. Additionally, if we want the activation of our neuron to be biased—for example, if we wanted the neuron to only meaningfully activate if the weighted sum is $> 10$—then we can add a bias term, $b_{i}$ to our weighted sum before applying our ReLU function.\n",
    "$$a_{0}^{(1)} = \\sigma\\left(\\sum\\limits_{j=0}^{n} w_{0, j} a_{j}^{(0)} - b_0\\right)$$\n",
    "This can all actually just be organized as a matrix operation,\n",
    "$$ \\begin{bmatrix} a_{0}^{(1)} \\\\ a_{1}^{(1)} \\\\ \\vdots \\\\ a_{n}^{(1)} \\end{bmatrix} = \\sigma\\left(\\begin{bmatrix} w_{0,0} & w_{0,1} & \\cdots & w_{0,n} \\\\ w_{1,0} & w_{1,1} & \\cdots & w_{1,n} \\\\ \\vdots & \\vdots & \\ddots & \\vdots \\\\ w_{k,0} & w_{k,1} & \\cdots & w_{k,n} \\end{bmatrix} \\begin{bmatrix} a_{0}^{(0)} \\\\ a_{1}^{(0)} \\\\ \\vdots \\\\ a_{n}^{(0)} \\end{bmatrix} + \\begin{bmatrix} b_{0} \\\\ b_{1} \\\\ \\vdots \\\\ b_{n} \\end{bmatrix}\\right)$$\n",
    "Each layer in out network can be thought of as a series of matrix operations where our goal is to tune the values of the matrix elements in order to achieve a desired output based on some input data. This \"training\" process is where the neural network \"learns\" what values each matrix in the system needs to have in order to give the correct output.\n",
    "\n",
    "## Machine Learning in Python\n",
    "There are many different libraries in the Python ecosystem that provide machine learning methods. Some of the most popular are:\n",
    "- [Scikit-learn](https://scikit-learn.org/stable/index.html)\n",
    "- [TensorFlow](https://www.tensorflow.org/)\n",
    "- [PyTorch](https://pytorch.org/)\n",
    "\n",
    "We will also use several common libraries to help with managing or visualizing the data:\n",
    "- [Numpy](https://numpy.org/)\n",
    "- [Scipy](https://scipy.org/)\n",
    "- [Matplotlib](https://matplotlib.org/)\n",
    "- [Pandas](https://pandas.pydata.org/)\n",
    "\n",
    "While all the machine learning libraries can perform many of the same tasks, some libraries have strengths in certain tasks over each other. It's always a good idea to explore the different options for your use case to determine the right tool for the job.\n",
    "\n",
    "Sckit-learn is a great entry point into machine learning, and it is a community-managed project based on Numpy and Scipy, also community-managed projects. It provides methods for many supervised and unsupervised learning algorithms with a simple API. We will explore this library in this notebook and later in the course as well.\n",
    "\n",
    "TensorFlow is a powerful library developed and maintained by Google designed to work well on deep neural networks which have applications in a variety of complicated tasks. It uses tensors—multidimensional arrays similar to vectors and matrices—to represent the data and network.\n",
    "\n",
    "PyTorch is one of the two most popular machine learning libraries (along with TensorFlow) in use today. It was originally developed by Meta but is now maintained as part of the Linux Foundation. Like TensorFlow, it operates on tensors and is useful for running deep neural networks on a variety of hardware setups. We will also look at this library in this notebook and throughout the course."
   ],
   "id": "a5f21feaab858bff"
  },
  {
   "metadata": {
    "id": "3dc2a84312eeb321"
   },
   "cell_type": "markdown",
   "source": [
    "# AI/ML tools in Python\n",
    "In this section, we are going to explore how to build a simple neural network to try to identify some handwritten digits using two of the most commonly used Python machine learning libraries: Scikit-learn and PyTorch\n",
    "\n",
    "Before we begin, we need to import a few libraries that will help us throughout our examples."
   ],
   "id": "3dc2a84312eeb321"
  },
  {
   "metadata": {
    "id": "3413cd644e303726",
    "executionInfo": {
     "status": "ok",
     "timestamp": 1727770541594,
     "user_tz": -60,
     "elapsed": 20129,
     "user": {
      "displayName": "Becky Canning",
      "userId": "17585554670383182468"
     }
    },
    "ExecuteTime": {
     "end_time": "2024-10-02T11:57:03.549836Z",
     "start_time": "2024-10-02T11:57:00.792046Z"
    }
   },
   "cell_type": "code",
   "source": [
    "import matplotlib.pyplot as plt  # This library allows us to create and display plots which we can use to explore our data\n",
    "import numpy as np  # This library helps with a variety of mathematical and array tasks\n",
    "from torchvision import datasets  # This library is part of the PyTorch project but is useful in general for us to get our dataset\n",
    "from torchvision.transforms import ToTensor"
   ],
   "id": "3413cd644e303726",
   "outputs": [],
   "execution_count": 1
  },
  {
   "metadata": {
    "id": "5bf00d60cdabe317"
   },
   "cell_type": "markdown",
   "source": [
    "## Data Exploration\n",
    "Our training dataset is going to be the [MNIST database of handwritten digits](https://yann.lecun.com/exdb/mnist/).\n",
    "\n",
    "<div class=\"alert alert-block alert-warning\">\n",
    "\n",
    "In these examples, we are going to use simple neural networks to perform image classification. In practice, you will likely want to use more sophisticated techniques like [convolutional neural networks](https://en.wikipedia.org/wiki/Convolutional_neural_network) to do this type of task. However, in this notebook we are more interested in looking at how to use the Python machine learning libraries and the differences between the syntax of the libraries.\n",
    "\n",
    "</div>\n",
    "\n",
    "First we will import this well known datset using PyTorch. Documentation for the avalible PyTorch datasets are here: https://pytorch.org/vision/master/datasets.html"
   ],
   "id": "5bf00d60cdabe317"
  },
  {
   "metadata": {
    "id": "f4586f174fe49723",
    "colab": {
     "base_uri": "https://localhost:8080/"
    },
    "executionInfo": {
     "status": "ok",
     "timestamp": 1727770548152,
     "user_tz": -60,
     "elapsed": 6560,
     "user": {
      "displayName": "Becky Canning",
      "userId": "17585554670383182468"
     }
    },
    "outputId": "9a24140f-eb92-486f-a311-65c8f35ad99c",
    "ExecuteTime": {
     "end_time": "2024-10-02T11:57:10.206055Z",
     "start_time": "2024-10-02T11:57:03.553576Z"
    }
   },
   "cell_type": "code",
   "source": [
    "# This will download and create a dataset from the training set using a PyTorch module.\n",
    "mnist_training = datasets.MNIST(root='Resources', train=True, download=True, transform=ToTensor())\n",
    "\n",
    "# We will later use this dataset to test our trained neural network with.\n",
    "mnist_testing = datasets.MNIST(root='Resources', train=False, download=True, transform=ToTensor())"
   ],
   "id": "f4586f174fe49723",
   "outputs": [
    {
     "name": "stdout",
     "output_type": "stream",
     "text": [
      "Downloading http://yann.lecun.com/exdb/mnist/train-images-idx3-ubyte.gz\n",
      "Failed to download (trying next):\n",
      "HTTP Error 403: Forbidden\n",
      "\n",
      "Downloading https://ossci-datasets.s3.amazonaws.com/mnist/train-images-idx3-ubyte.gz\n",
      "Downloading https://ossci-datasets.s3.amazonaws.com/mnist/train-images-idx3-ubyte.gz to Resources/MNIST/raw/train-images-idx3-ubyte.gz\n"
     ]
    },
    {
     "name": "stderr",
     "output_type": "stream",
     "text": [
      "100.0%\n"
     ]
    },
    {
     "name": "stdout",
     "output_type": "stream",
     "text": [
      "Extracting Resources/MNIST/raw/train-images-idx3-ubyte.gz to Resources/MNIST/raw\n",
      "\n",
      "Downloading http://yann.lecun.com/exdb/mnist/train-labels-idx1-ubyte.gz\n",
      "Failed to download (trying next):\n",
      "HTTP Error 403: Forbidden\n",
      "\n",
      "Downloading https://ossci-datasets.s3.amazonaws.com/mnist/train-labels-idx1-ubyte.gz\n",
      "Downloading https://ossci-datasets.s3.amazonaws.com/mnist/train-labels-idx1-ubyte.gz to Resources/MNIST/raw/train-labels-idx1-ubyte.gz\n"
     ]
    },
    {
     "name": "stderr",
     "output_type": "stream",
     "text": [
      "100.0%\n"
     ]
    },
    {
     "name": "stdout",
     "output_type": "stream",
     "text": [
      "Extracting Resources/MNIST/raw/train-labels-idx1-ubyte.gz to Resources/MNIST/raw\n",
      "\n",
      "Downloading http://yann.lecun.com/exdb/mnist/t10k-images-idx3-ubyte.gz\n",
      "Failed to download (trying next):\n",
      "HTTP Error 403: Forbidden\n",
      "\n",
      "Downloading https://ossci-datasets.s3.amazonaws.com/mnist/t10k-images-idx3-ubyte.gz\n",
      "Downloading https://ossci-datasets.s3.amazonaws.com/mnist/t10k-images-idx3-ubyte.gz to Resources/MNIST/raw/t10k-images-idx3-ubyte.gz\n"
     ]
    },
    {
     "name": "stderr",
     "output_type": "stream",
     "text": [
      "100.0%\n"
     ]
    },
    {
     "name": "stdout",
     "output_type": "stream",
     "text": [
      "Extracting Resources/MNIST/raw/t10k-images-idx3-ubyte.gz to Resources/MNIST/raw\n",
      "\n",
      "Downloading http://yann.lecun.com/exdb/mnist/t10k-labels-idx1-ubyte.gz\n",
      "Failed to download (trying next):\n",
      "HTTP Error 403: Forbidden\n",
      "\n",
      "Downloading https://ossci-datasets.s3.amazonaws.com/mnist/t10k-labels-idx1-ubyte.gz\n",
      "Downloading https://ossci-datasets.s3.amazonaws.com/mnist/t10k-labels-idx1-ubyte.gz to Resources/MNIST/raw/t10k-labels-idx1-ubyte.gz\n"
     ]
    },
    {
     "name": "stderr",
     "output_type": "stream",
     "text": [
      "100.0%"
     ]
    },
    {
     "name": "stdout",
     "output_type": "stream",
     "text": [
      "Extracting Resources/MNIST/raw/t10k-labels-idx1-ubyte.gz to Resources/MNIST/raw\n",
      "\n"
     ]
    },
    {
     "name": "stderr",
     "output_type": "stream",
     "text": [
      "\n"
     ]
    }
   ],
   "execution_count": 2
  },
  {
   "metadata": {
    "id": "a03b79c5d32a62a5"
   },
   "cell_type": "markdown",
   "source": [
    "We should always do some data exploration so that we know what our data looks like."
   ],
   "id": "a03b79c5d32a62a5"
  },
  {
   "metadata": {
    "id": "f5488878654594e4",
    "outputId": "79739386-5978-4fcd-d969-5aea6af6b077",
    "colab": {
     "base_uri": "https://localhost:8080/"
    },
    "executionInfo": {
     "status": "ok",
     "timestamp": 1727770548409,
     "user_tz": -60,
     "elapsed": 265,
     "user": {
      "displayName": "Becky Canning",
      "userId": "17585554670383182468"
     }
    },
    "ExecuteTime": {
     "end_time": "2024-10-02T11:57:10.419193Z",
     "start_time": "2024-10-02T11:57:10.412458Z"
    }
   },
   "cell_type": "code",
   "source": [
    "mnist_training"
   ],
   "id": "f5488878654594e4",
   "outputs": [
    {
     "data": {
      "text/plain": [
       "Dataset MNIST\n",
       "    Number of datapoints: 60000\n",
       "    Root location: Resources\n",
       "    Split: Train\n",
       "    StandardTransform\n",
       "Transform: ToTensor()"
      ]
     },
     "execution_count": 3,
     "metadata": {},
     "output_type": "execute_result"
    }
   ],
   "execution_count": 3
  },
  {
   "metadata": {
    "id": "b12737e7d62df36c"
   },
   "cell_type": "markdown",
   "source": [
    "Let's display the training data and the associated labels."
   ],
   "id": "b12737e7d62df36c"
  },
  {
   "metadata": {
    "id": "628777cbb37291e0",
    "outputId": "cc22ddcc-0e9b-4df1-8de7-0b3584c01be3",
    "colab": {
     "base_uri": "https://localhost:8080/",
     "height": 167
    },
    "executionInfo": {
     "status": "ok",
     "timestamp": 1727770551993,
     "user_tz": -60,
     "elapsed": 3586,
     "user": {
      "displayName": "Becky Canning",
      "userId": "17585554670383182468"
     }
    },
    "ExecuteTime": {
     "end_time": "2024-10-02T11:57:10.855649Z",
     "start_time": "2024-10-02T11:57:10.569570Z"
    }
   },
   "cell_type": "code",
   "source": [
    "# We need to cast the data as Numpy arrays to use with Scikit-learn\n",
    "training_images = mnist_training.data.numpy()\n",
    "training_labels = mnist_training.targets.numpy()\n",
    "\n",
    "# We will use the testing dataset later to see how our networks perform\n",
    "testing_images = mnist_testing.data.numpy()\n",
    "testing_labels = mnist_testing.targets.numpy()\n",
    "\n",
    "fig, axes = plt.subplots(ncols=10, figsize=(20, 3))\n",
    "for ax, image, label in zip(axes.flatten(), training_images, training_labels):\n",
    "    ax.set_axis_off()\n",
    "    ax.imshow(image, cmap='Greys')\n",
    "    ax.set(title=f'Training label: {label}')\n",
    "plt.show()"
   ],
   "id": "628777cbb37291e0",
   "outputs": [
    {
     "data": {
      "text/plain": [
       "<Figure size 2000x300 with 10 Axes>"
      ],
      "image/png": "[encoded data removed]"
     },
     "metadata": {},
     "output_type": "display_data"
    }
   ],
   "execution_count": 4
  },
  {
   "metadata": {
    "id": "338ba2ccd87b08c1"
   },
   "cell_type": "markdown",
   "source": [
    "We also should look at the frequencies of the training labels to assess how potentially biased the data we are going to train the networks on will be."
   ],
   "id": "338ba2ccd87b08c1"
  },
  {
   "metadata": {
    "id": "b086ca0ffd2d723d",
    "outputId": "dfb198a0-991a-47ac-bd04-277b4bf94e3b",
    "colab": {
     "base_uri": "https://localhost:8080/",
     "height": 472
    },
    "executionInfo": {
     "status": "ok",
     "timestamp": 1727770553862,
     "user_tz": -60,
     "elapsed": 1873,
     "user": {
      "displayName": "Becky Canning",
      "userId": "17585554670383182468"
     }
    },
    "ExecuteTime": {
     "end_time": "2024-10-02T11:57:11.009023Z",
     "start_time": "2024-10-02T11:57:10.877720Z"
    }
   },
   "cell_type": "code",
   "source": [
    "fig, ax = plt.subplots()\n",
    "ax.hist(training_labels, bins=np.arange(11), align='left')\n",
    "ax.set(title='Frequency of Training Labels', xlabel='Label', ylabel='Frequency', xlim=[-0.5, 9.5])\n",
    "ax.xaxis.set_major_locator(plt.MaxNLocator(integer=True))\n",
    "plt.show()"
   ],
   "id": "b086ca0ffd2d723d",
   "outputs": [
    {
     "data": {
      "text/plain": [
       "<Figure size 640x480 with 1 Axes>"
      ],
      "image/png": "[encoded data removed]"
     },
     "metadata": {},
     "output_type": "display_data"
    }
   ],
   "execution_count": 5
  },
  {
   "cell_type": "markdown",
   "source": [
    "The above was using PyTorch - PyTorch is not the only place we could have gotten our datsets - the most common benchmarking datasets, and many of datasets and pretrained models are avlible through most packages. The sklearn version would have been:"
   ],
   "metadata": {
    "id": "gfjbyEk3QRlg"
   },
   "id": "gfjbyEk3QRlg"
  },
  {
   "cell_type": "code",
   "source": [
    "# Import datasets, classifiers and performance metrics\n",
    "from sklearn import datasets as sk_datasets\n",
    "\n",
    "sk_digits = sk_datasets.load_digits()\n",
    "\n",
    "fig, axes = plt.subplots(ncols=10, figsize=(20, 3))\n",
    "for ax, image, label in zip(axes.flatten(), sk_digits.images, sk_digits.target):\n",
    "    ax.set_axis_off()\n",
    "    ax.imshow(image, cmap='Greys')\n",
    "    ax.set(title=f'Training label: {label}')\n",
    "plt.show()"
   ],
   "metadata": {
    "colab": {
     "base_uri": "https://localhost:8080/",
     "height": 167
    },
    "id": "9ApJnd52QQOM",
    "executionInfo": {
     "status": "ok",
     "timestamp": 1727770559958,
     "user_tz": -60,
     "elapsed": 6098,
     "user": {
      "displayName": "Becky Canning",
      "userId": "17585554670383182468"
     }
    },
    "outputId": "c5c3c1e3-b429-4bde-aa15-d96e060d28b6",
    "ExecuteTime": {
     "end_time": "2024-10-02T11:57:14.179804Z",
     "start_time": "2024-10-02T11:57:11.043169Z"
    }
   },
   "id": "9ApJnd52QQOM",
   "outputs": [
    {
     "data": {
      "text/plain": [
       "<Figure size 2000x300 with 10 Axes>"
      ],
      "image/png": "[encoded data removed]"
     },
     "metadata": {},
     "output_type": "display_data"
    }
   ],
   "execution_count": 6
  },
  {
   "metadata": {
    "id": "dcefd406c7412dcb"
   },
   "cell_type": "markdown",
   "source": [
    "## Scikit-learn\n",
    "Let's try to build and train a simple neural network with Scikit-learn to classify our digits.\n",
    "\n",
    "One of Scikit-learn's strengths is that it is very entry-level user-friendly by providing a bunch of preset neural network and other machine learning processes. For our example, we will use the [multilayer perceptron classifier](https://scikit-learn.org/stable/modules/generated/sklearn.neural_network.MLPClassifier.html#sklearn.neural_network.MLPClassifier)."
   ],
   "id": "dcefd406c7412dcb"
  },
  {
   "cell_type": "code",
   "id": "initial_id",
   "metadata": {
    "collapsed": true,
    "id": "initial_id",
    "executionInfo": {
     "status": "ok",
     "timestamp": 1727770560216,
     "user_tz": -60,
     "elapsed": 261,
     "user": {
      "displayName": "Becky Canning",
      "userId": "17585554670383182468"
     }
    },
    "ExecuteTime": {
     "end_time": "2024-10-02T11:57:14.845053Z",
     "start_time": "2024-10-02T11:57:14.196346Z"
    }
   },
   "source": [
    "from sklearn.neural_network import MLPClassifier  # This is sklearn's Multi-Layer Perceptron classifier\n",
    "from sklearn import metrics  # We will use this throughout this notebook to analyze how our networks are performing."
   ],
   "outputs": [],
   "execution_count": 7
  },
  {
   "metadata": {
    "id": "c67628543231c935"
   },
   "cell_type": "markdown",
   "source": [
    "Instead of trying to take the images as a grid of pixels, we will instead flatten our images into long, 1-dimensional arrays which will form our input layer for our very simple neural network."
   ],
   "id": "c67628543231c935"
  },
  {
   "metadata": {
    "id": "304b01800c9bbb5e",
    "outputId": "7b57c182-e444-4a6f-8336-e137b984267e",
    "colab": {
     "base_uri": "https://localhost:8080/"
    },
    "executionInfo": {
     "status": "ok",
     "timestamp": 1727770560216,
     "user_tz": -60,
     "elapsed": 4,
     "user": {
      "displayName": "Becky Canning",
      "userId": "17585554670383182468"
     }
    },
    "ExecuteTime": {
     "end_time": "2024-10-02T11:57:14.859853Z",
     "start_time": "2024-10-02T11:57:14.855751Z"
    }
   },
   "cell_type": "code",
   "source": [
    "training_data = training_images.reshape((len(training_images), -1))\n",
    "training_data[0]"
   ],
   "id": "304b01800c9bbb5e",
   "outputs": [
    {
     "data": {
      "text/plain": [
       "array([  0,   0,   0,   0,   0,   0,   0,   0,   0,   0,   0,   0,   0,\n",
       "         0,   0,   0,   0,   0,   0,   0,   0,   0,   0,   0,   0,   0,\n",
       "         0,   0,   0,   0,   0,   0,   0,   0,   0,   0,   0,   0,   0,\n",
       "         0,   0,   0,   0,   0,   0,   0,   0,   0,   0,   0,   0,   0,\n",
       "         0,   0,   0,   0,   0,   0,   0,   0,   0,   0,   0,   0,   0,\n",
       "         0,   0,   0,   0,   0,   0,   0,   0,   0,   0,   0,   0,   0,\n",
       "         0,   0,   0,   0,   0,   0,   0,   0,   0,   0,   0,   0,   0,\n",
       "         0,   0,   0,   0,   0,   0,   0,   0,   0,   0,   0,   0,   0,\n",
       "         0,   0,   0,   0,   0,   0,   0,   0,   0,   0,   0,   0,   0,\n",
       "         0,   0,   0,   0,   0,   0,   0,   0,   0,   0,   0,   0,   0,\n",
       "         0,   0,   0,   0,   0,   0,   0,   0,   0,   0,   0,   0,   0,\n",
       "         0,   0,   0,   0,   0,   0,   0,   0,   0,   3,  18,  18,  18,\n",
       "       126, 136, 175,  26, 166, 255, 247, 127,   0,   0,   0,   0,   0,\n",
       "         0,   0,   0,   0,   0,   0,   0,  30,  36,  94, 154, 170, 253,\n",
       "       253, 253, 253, 253, 225, 172, 253, 242, 195,  64,   0,   0,   0,\n",
       "         0,   0,   0,   0,   0,   0,   0,   0,  49, 238, 253, 253, 253,\n",
       "       253, 253, 253, 253, 253, 251,  93,  82,  82,  56,  39,   0,   0,\n",
       "         0,   0,   0,   0,   0,   0,   0,   0,   0,   0,  18, 219, 253,\n",
       "       253, 253, 253, 253, 198, 182, 247, 241,   0,   0,   0,   0,   0,\n",
       "         0,   0,   0,   0,   0,   0,   0,   0,   0,   0,   0,   0,   0,\n",
       "        80, 156, 107, 253, 253, 205,  11,   0,  43, 154,   0,   0,   0,\n",
       "         0,   0,   0,   0,   0,   0,   0,   0,   0,   0,   0,   0,   0,\n",
       "         0,   0,   0,  14,   1, 154, 253,  90,   0,   0,   0,   0,   0,\n",
       "         0,   0,   0,   0,   0,   0,   0,   0,   0,   0,   0,   0,   0,\n",
       "         0,   0,   0,   0,   0,   0,   0, 139, 253, 190,   2,   0,   0,\n",
       "         0,   0,   0,   0,   0,   0,   0,   0,   0,   0,   0,   0,   0,\n",
       "         0,   0,   0,   0,   0,   0,   0,   0,   0,  11, 190, 253,  70,\n",
       "         0,   0,   0,   0,   0,   0,   0,   0,   0,   0,   0,   0,   0,\n",
       "         0,   0,   0,   0,   0,   0,   0,   0,   0,   0,   0,   0,  35,\n",
       "       241, 225, 160, 108,   1,   0,   0,   0,   0,   0,   0,   0,   0,\n",
       "         0,   0,   0,   0,   0,   0,   0,   0,   0,   0,   0,   0,   0,\n",
       "         0,   0,  81, 240, 253, 253, 119,  25,   0,   0,   0,   0,   0,\n",
       "         0,   0,   0,   0,   0,   0,   0,   0,   0,   0,   0,   0,   0,\n",
       "         0,   0,   0,   0,   0,  45, 186, 253, 253, 150,  27,   0,   0,\n",
       "         0,   0,   0,   0,   0,   0,   0,   0,   0,   0,   0,   0,   0,\n",
       "         0,   0,   0,   0,   0,   0,   0,   0,  16,  93, 252, 253, 187,\n",
       "         0,   0,   0,   0,   0,   0,   0,   0,   0,   0,   0,   0,   0,\n",
       "         0,   0,   0,   0,   0,   0,   0,   0,   0,   0,   0,   0, 249,\n",
       "       253, 249,  64,   0,   0,   0,   0,   0,   0,   0,   0,   0,   0,\n",
       "         0,   0,   0,   0,   0,   0,   0,   0,   0,   0,   0,  46, 130,\n",
       "       183, 253, 253, 207,   2,   0,   0,   0,   0,   0,   0,   0,   0,\n",
       "         0,   0,   0,   0,   0,   0,   0,   0,   0,   0,   0,  39, 148,\n",
       "       229, 253, 253, 253, 250, 182,   0,   0,   0,   0,   0,   0,   0,\n",
       "         0,   0,   0,   0,   0,   0,   0,   0,   0,   0,   0,  24, 114,\n",
       "       221, 253, 253, 253, 253, 201,  78,   0,   0,   0,   0,   0,   0,\n",
       "         0,   0,   0,   0,   0,   0,   0,   0,   0,   0,   0,  23,  66,\n",
       "       213, 253, 253, 253, 253, 198,  81,   2,   0,   0,   0,   0,   0,\n",
       "         0,   0,   0,   0,   0,   0,   0,   0,   0,   0,   0,  18, 171,\n",
       "       219, 253, 253, 253, 253, 195,  80,   9,   0,   0,   0,   0,   0,\n",
       "         0,   0,   0,   0,   0,   0,   0,   0,   0,   0,   0,  55, 172,\n",
       "       226, 253, 253, 253, 253, 244, 133,  11,   0,   0,   0,   0,   0,\n",
       "         0,   0,   0,   0,   0,   0,   0,   0,   0,   0,   0,   0,   0,\n",
       "       136, 253, 253, 253, 212, 135, 132,  16,   0,   0,   0,   0,   0,\n",
       "         0,   0,   0,   0,   0,   0,   0,   0,   0,   0,   0,   0,   0,\n",
       "         0,   0,   0,   0,   0,   0,   0,   0,   0,   0,   0,   0,   0,\n",
       "         0,   0,   0,   0,   0,   0,   0,   0,   0,   0,   0,   0,   0,\n",
       "         0,   0,   0,   0,   0,   0,   0,   0,   0,   0,   0,   0,   0,\n",
       "         0,   0,   0,   0,   0,   0,   0,   0,   0,   0,   0,   0,   0,\n",
       "         0,   0,   0,   0,   0,   0,   0,   0,   0,   0,   0,   0,   0,\n",
       "         0,   0,   0,   0,   0,   0,   0,   0,   0,   0,   0,   0,   0,\n",
       "         0,   0,   0,   0], dtype=uint8)"
      ]
     },
     "execution_count": 8,
     "metadata": {},
     "output_type": "execute_result"
    }
   ],
   "execution_count": 8
  },
  {
   "metadata": {
    "id": "ce2541a858769199"
   },
   "cell_type": "markdown",
   "source": [
    "For this example, we will build a very simplistic neural network with 5 hidden layers of 16 neurons each. We will also specify that we are using a stochastic gradient descent method ('adam', the adaptive moment estimation) for our training of the network, we will use the rectified linear unit (ReLU) activation function that renormalizes the input for a neuron to specify the activity on the neuron. We will carry out 10,000 training iterations, and shuffle the data on each training epoch."
   ],
   "id": "ce2541a858769199"
  },
  {
   "metadata": {
    "id": "ca2fdf85fef293a2",
    "executionInfo": {
     "status": "ok",
     "timestamp": 1727770560216,
     "user_tz": -60,
     "elapsed": 3,
     "user": {
      "displayName": "Becky Canning",
      "userId": "17585554670383182468"
     }
    },
    "ExecuteTime": {
     "end_time": "2024-10-02T11:57:14.880539Z",
     "start_time": "2024-10-02T11:57:14.878228Z"
    }
   },
   "cell_type": "code",
   "source": [
    "clf = MLPClassifier(hidden_layer_sizes=(16, 5), solver='adam', activation='relu', max_iter=10_000, shuffle=True, random_state=1)"
   ],
   "id": "ca2fdf85fef293a2",
   "outputs": [],
   "execution_count": 9
  },
  {
   "metadata": {
    "id": "6d3d5c0d262fc1c8"
   },
   "cell_type": "markdown",
   "source": [
    "Now with our neural network set up, we can train it using our data. First, let's split the data into 50% training and testing datasets"
   ],
   "id": "6d3d5c0d262fc1c8"
  },
  {
   "metadata": {
    "id": "64d51d006736664f",
    "outputId": "246b846c-dff0-4c79-9c6f-db24794289b7",
    "colab": {
     "base_uri": "https://localhost:8080/",
     "height": 80
    },
    "executionInfo": {
     "status": "ok",
     "timestamp": 1727770829857,
     "user_tz": -60,
     "elapsed": 269643,
     "user": {
      "displayName": "Becky Canning",
      "userId": "17585554670383182468"
     }
    },
    "ExecuteTime": {
     "end_time": "2024-10-02T11:59:20.033690Z",
     "start_time": "2024-10-02T11:57:14.902148Z"
    }
   },
   "cell_type": "code",
   "source": [
    "# Train the network\n",
    "clf.fit(training_data, training_labels)"
   ],
   "id": "64d51d006736664f",
   "outputs": [
    {
     "data": {
      "text/plain": [
       "MLPClassifier(hidden_layer_sizes=(16, 5), max_iter=10000, random_state=1)"
      ],
      "text/html": [
       "<style>#sk-container-id-1 {\n",
       "  /* Definition of color scheme common for light and dark mode */\n",
       "  --sklearn-color-text: black;\n",
       "  --sklearn-color-line: gray;\n",
       "  /* Definition of color scheme for unfitted estimators */\n",
       "  --sklearn-color-unfitted-level-0: #fff5e6;\n",
       "  --sklearn-color-unfitted-level-1: #f6e4d2;\n",
       "  --sklearn-color-unfitted-level-2: #ffe0b3;\n",
       "  --sklearn-color-unfitted-level-3: chocolate;\n",
       "  /* Definition of color scheme for fitted estimators */\n",
       "  --sklearn-color-fitted-level-0: #f0f8ff;\n",
       "  --sklearn-color-fitted-level-1: #d4ebff;\n",
       "  --sklearn-color-fitted-level-2: #b3dbfd;\n",
       "  --sklearn-color-fitted-level-3: cornflowerblue;\n",
       "\n",
       "  /* Specific color for light theme */\n",
       "  --sklearn-color-text-on-default-background: var(--sg-text-color, var(--theme-code-foreground, var(--jp-content-font-color1, black)));\n",
       "  --sklearn-color-background: var(--sg-background-color, var(--theme-background, var(--jp-layout-color0, white)));\n",
       "  --sklearn-color-border-box: var(--sg-text-color, var(--theme-code-foreground, var(--jp-content-font-color1, black)));\n",
       "  --sklearn-color-icon: #696969;\n",
       "\n",
       "  @media (prefers-color-scheme: dark) {\n",
       "    /* Redefinition of color scheme for dark theme */\n",
       "    --sklearn-color-text-on-default-background: var(--sg-text-color, var(--theme-code-foreground, var(--jp-content-font-color1, white)));\n",
       "    --sklearn-color-background: var(--sg-background-color, var(--theme-background, var(--jp-layout-color0, #111)));\n",
       "    --sklearn-color-border-box: var(--sg-text-color, var(--theme-code-foreground, var(--jp-content-font-color1, white)));\n",
       "    --sklearn-color-icon: #878787;\n",
       "  }\n",
       "}\n",
       "\n",
       "#sk-container-id-1 {\n",
       "  color: var(--sklearn-color-text);\n",
       "}\n",
       "\n",
       "#sk-container-id-1 pre {\n",
       "  padding: 0;\n",
       "}\n",
       "\n",
       "#sk-container-id-1 input.sk-hidden--visually {\n",
       "  border: 0;\n",
       "  clip: rect(1px 1px 1px 1px);\n",
       "  clip: rect(1px, 1px, 1px, 1px);\n",
       "  height: 1px;\n",
       "  margin: -1px;\n",
       "  overflow: hidden;\n",
       "  padding: 0;\n",
       "  position: absolute;\n",
       "  width: 1px;\n",
       "}\n",
       "\n",
       "#sk-container-id-1 div.sk-dashed-wrapped {\n",
       "  border: 1px dashed var(--sklearn-color-line);\n",
       "  margin: 0 0.4em 0.5em 0.4em;\n",
       "  box-sizing: border-box;\n",
       "  padding-bottom: 0.4em;\n",
       "  background-color: var(--sklearn-color-background);\n",
       "}\n",
       "\n",
       "#sk-container-id-1 div.sk-container {\n",
       "  /* jupyter's `normalize.less` sets `[hidden] { display: none; }`\n",
       "     but bootstrap.min.css set `[hidden] { display: none !important; }`\n",
       "     so we also need the `!important` here to be able to override the\n",
       "     default hidden behavior on the sphinx rendered scikit-learn.org.\n",
       "     See: https://github.com/scikit-learn/scikit-learn/issues/21755 */\n",
       "  display: inline-block !important;\n",
       "  position: relative;\n",
       "}\n",
       "\n",
       "#sk-container-id-1 div.sk-text-repr-fallback {\n",
       "  display: none;\n",
       "}\n",
       "\n",
       "div.sk-parallel-item,\n",
       "div.sk-serial,\n",
       "div.sk-item {\n",
       "  /* draw centered vertical line to link estimators */\n",
       "  background-image: linear-gradient(var(--sklearn-color-text-on-default-background), var(--sklearn-color-text-on-default-background));\n",
       "  background-size: 2px 100%;\n",
       "  background-repeat: no-repeat;\n",
       "  background-position: center center;\n",
       "}\n",
       "\n",
       "/* Parallel-specific style estimator block */\n",
       "\n",
       "#sk-container-id-1 div.sk-parallel-item::after {\n",
       "  content: \"\";\n",
       "  width: 100%;\n",
       "  border-bottom: 2px solid var(--sklearn-color-text-on-default-background);\n",
       "  flex-grow: 1;\n",
       "}\n",
       "\n",
       "#sk-container-id-1 div.sk-parallel {\n",
       "  display: flex;\n",
       "  align-items: stretch;\n",
       "  justify-content: center;\n",
       "  background-color: var(--sklearn-color-background);\n",
       "  position: relative;\n",
       "}\n",
       "\n",
       "#sk-container-id-1 div.sk-parallel-item {\n",
       "  display: flex;\n",
       "  flex-direction: column;\n",
       "}\n",
       "\n",
       "#sk-container-id-1 div.sk-parallel-item:first-child::after {\n",
       "  align-self: flex-end;\n",
       "  width: 50%;\n",
       "}\n",
       "\n",
       "#sk-container-id-1 div.sk-parallel-item:last-child::after {\n",
       "  align-self: flex-start;\n",
       "  width: 50%;\n",
       "}\n",
       "\n",
       "#sk-container-id-1 div.sk-parallel-item:only-child::after {\n",
       "  width: 0;\n",
       "}\n",
       "\n",
       "/* Serial-specific style estimator block */\n",
       "\n",
       "#sk-container-id-1 div.sk-serial {\n",
       "  display: flex;\n",
       "  flex-direction: column;\n",
       "  align-items: center;\n",
       "  background-color: var(--sklearn-color-background);\n",
       "  padding-right: 1em;\n",
       "  padding-left: 1em;\n",
       "}\n",
       "\n",
       "\n",
       "/* Toggleable style: style used for estimator/Pipeline/ColumnTransformer box that is\n",
       "clickable and can be expanded/collapsed.\n",
       "- Pipeline and ColumnTransformer use this feature and define the default style\n",
       "- Estimators will overwrite some part of the style using the `sk-estimator` class\n",
       "*/\n",
       "\n",
       "/* Pipeline and ColumnTransformer style (default) */\n",
       "\n",
       "#sk-container-id-1 div.sk-toggleable {\n",
       "  /* Default theme specific background. It is overwritten whether we have a\n",
       "  specific estimator or a Pipeline/ColumnTransformer */\n",
       "  background-color: var(--sklearn-color-background);\n",
       "}\n",
       "\n",
       "/* Toggleable label */\n",
       "#sk-container-id-1 label.sk-toggleable__label {\n",
       "  cursor: pointer;\n",
       "  display: block;\n",
       "  width: 100%;\n",
       "  margin-bottom: 0;\n",
       "  padding: 0.5em;\n",
       "  box-sizing: border-box;\n",
       "  text-align: center;\n",
       "}\n",
       "\n",
       "#sk-container-id-1 label.sk-toggleable__label-arrow:before {\n",
       "  /* Arrow on the left of the label */\n",
       "  content: \"▸\";\n",
       "  float: left;\n",
       "  margin-right: 0.25em;\n",
       "  color: var(--sklearn-color-icon);\n",
       "}\n",
       "\n",
       "#sk-container-id-1 label.sk-toggleable__label-arrow:hover:before {\n",
       "  color: var(--sklearn-color-text);\n",
       "}\n",
       "\n",
       "/* Toggleable content - dropdown */\n",
       "\n",
       "#sk-container-id-1 div.sk-toggleable__content {\n",
       "  max-height: 0;\n",
       "  max-width: 0;\n",
       "  overflow: hidden;\n",
       "  text-align: left;\n",
       "  /* unfitted */\n",
       "  background-color: var(--sklearn-color-unfitted-level-0);\n",
       "}\n",
       "\n",
       "#sk-container-id-1 div.sk-toggleable__content.fitted {\n",
       "  /* fitted */\n",
       "  background-color: var(--sklearn-color-fitted-level-0);\n",
       "}\n",
       "\n",
       "#sk-container-id-1 div.sk-toggleable__content pre {\n",
       "  margin: 0.2em;\n",
       "  border-radius: 0.25em;\n",
       "  color: var(--sklearn-color-text);\n",
       "  /* unfitted */\n",
       "  background-color: var(--sklearn-color-unfitted-level-0);\n",
       "}\n",
       "\n",
       "#sk-container-id-1 div.sk-toggleable__content.fitted pre {\n",
       "  /* unfitted */\n",
       "  background-color: var(--sklearn-color-fitted-level-0);\n",
       "}\n",
       "\n",
       "#sk-container-id-1 input.sk-toggleable__control:checked~div.sk-toggleable__content {\n",
       "  /* Expand drop-down */\n",
       "  max-height: 200px;\n",
       "  max-width: 100%;\n",
       "  overflow: auto;\n",
       "}\n",
       "\n",
       "#sk-container-id-1 input.sk-toggleable__control:checked~label.sk-toggleable__label-arrow:before {\n",
       "  content: \"▾\";\n",
       "}\n",
       "\n",
       "/* Pipeline/ColumnTransformer-specific style */\n",
       "\n",
       "#sk-container-id-1 div.sk-label input.sk-toggleable__control:checked~label.sk-toggleable__label {\n",
       "  color: var(--sklearn-color-text);\n",
       "  background-color: var(--sklearn-color-unfitted-level-2);\n",
       "}\n",
       "\n",
       "#sk-container-id-1 div.sk-label.fitted input.sk-toggleable__control:checked~label.sk-toggleable__label {\n",
       "  background-color: var(--sklearn-color-fitted-level-2);\n",
       "}\n",
       "\n",
       "/* Estimator-specific style */\n",
       "\n",
       "/* Colorize estimator box */\n",
       "#sk-container-id-1 div.sk-estimator input.sk-toggleable__control:checked~label.sk-toggleable__label {\n",
       "  /* unfitted */\n",
       "  background-color: var(--sklearn-color-unfitted-level-2);\n",
       "}\n",
       "\n",
       "#sk-container-id-1 div.sk-estimator.fitted input.sk-toggleable__control:checked~label.sk-toggleable__label {\n",
       "  /* fitted */\n",
       "  background-color: var(--sklearn-color-fitted-level-2);\n",
       "}\n",
       "\n",
       "#sk-container-id-1 div.sk-label label.sk-toggleable__label,\n",
       "#sk-container-id-1 div.sk-label label {\n",
       "  /* The background is the default theme color */\n",
       "  color: var(--sklearn-color-text-on-default-background);\n",
       "}\n",
       "\n",
       "/* On hover, darken the color of the background */\n",
       "#sk-container-id-1 div.sk-label:hover label.sk-toggleable__label {\n",
       "  color: var(--sklearn-color-text);\n",
       "  background-color: var(--sklearn-color-unfitted-level-2);\n",
       "}\n",
       "\n",
       "/* Label box, darken color on hover, fitted */\n",
       "#sk-container-id-1 div.sk-label.fitted:hover label.sk-toggleable__label.fitted {\n",
       "  color: var(--sklearn-color-text);\n",
       "  background-color: var(--sklearn-color-fitted-level-2);\n",
       "}\n",
       "\n",
       "/* Estimator label */\n",
       "\n",
       "#sk-container-id-1 div.sk-label label {\n",
       "  font-family: monospace;\n",
       "  font-weight: bold;\n",
       "  display: inline-block;\n",
       "  line-height: 1.2em;\n",
       "}\n",
       "\n",
       "#sk-container-id-1 div.sk-label-container {\n",
       "  text-align: center;\n",
       "}\n",
       "\n",
       "/* Estimator-specific */\n",
       "#sk-container-id-1 div.sk-estimator {\n",
       "  font-family: monospace;\n",
       "  border: 1px dotted var(--sklearn-color-border-box);\n",
       "  border-radius: 0.25em;\n",
       "  box-sizing: border-box;\n",
       "  margin-bottom: 0.5em;\n",
       "  /* unfitted */\n",
       "  background-color: var(--sklearn-color-unfitted-level-0);\n",
       "}\n",
       "\n",
       "#sk-container-id-1 div.sk-estimator.fitted {\n",
       "  /* fitted */\n",
       "  background-color: var(--sklearn-color-fitted-level-0);\n",
       "}\n",
       "\n",
       "/* on hover */\n",
       "#sk-container-id-1 div.sk-estimator:hover {\n",
       "  /* unfitted */\n",
       "  background-color: var(--sklearn-color-unfitted-level-2);\n",
       "}\n",
       "\n",
       "#sk-container-id-1 div.sk-estimator.fitted:hover {\n",
       "  /* fitted */\n",
       "  background-color: var(--sklearn-color-fitted-level-2);\n",
       "}\n",
       "\n",
       "/* Specification for estimator info (e.g. \"i\" and \"?\") */\n",
       "\n",
       "/* Common style for \"i\" and \"?\" */\n",
       "\n",
       ".sk-estimator-doc-link,\n",
       "a:link.sk-estimator-doc-link,\n",
       "a:visited.sk-estimator-doc-link {\n",
       "  float: right;\n",
       "  font-size: smaller;\n",
       "  line-height: 1em;\n",
       "  font-family: monospace;\n",
       "  background-color: var(--sklearn-color-background);\n",
       "  border-radius: 1em;\n",
       "  height: 1em;\n",
       "  width: 1em;\n",
       "  text-decoration: none !important;\n",
       "  margin-left: 1ex;\n",
       "  /* unfitted */\n",
       "  border: var(--sklearn-color-unfitted-level-1) 1pt solid;\n",
       "  color: var(--sklearn-color-unfitted-level-1);\n",
       "}\n",
       "\n",
       ".sk-estimator-doc-link.fitted,\n",
       "a:link.sk-estimator-doc-link.fitted,\n",
       "a:visited.sk-estimator-doc-link.fitted {\n",
       "  /* fitted */\n",
       "  border: var(--sklearn-color-fitted-level-1) 1pt solid;\n",
       "  color: var(--sklearn-color-fitted-level-1);\n",
       "}\n",
       "\n",
       "/* On hover */\n",
       "div.sk-estimator:hover .sk-estimator-doc-link:hover,\n",
       ".sk-estimator-doc-link:hover,\n",
       "div.sk-label-container:hover .sk-estimator-doc-link:hover,\n",
       ".sk-estimator-doc-link:hover {\n",
       "  /* unfitted */\n",
       "  background-color: var(--sklearn-color-unfitted-level-3);\n",
       "  color: var(--sklearn-color-background);\n",
       "  text-decoration: none;\n",
       "}\n",
       "\n",
       "div.sk-estimator.fitted:hover .sk-estimator-doc-link.fitted:hover,\n",
       ".sk-estimator-doc-link.fitted:hover,\n",
       "div.sk-label-container:hover .sk-estimator-doc-link.fitted:hover,\n",
       ".sk-estimator-doc-link.fitted:hover {\n",
       "  /* fitted */\n",
       "  background-color: var(--sklearn-color-fitted-level-3);\n",
       "  color: var(--sklearn-color-background);\n",
       "  text-decoration: none;\n",
       "}\n",
       "\n",
       "/* Span, style for the box shown on hovering the info icon */\n",
       ".sk-estimator-doc-link span {\n",
       "  display: none;\n",
       "  z-index: 9999;\n",
       "  position: relative;\n",
       "  font-weight: normal;\n",
       "  right: .2ex;\n",
       "  padding: .5ex;\n",
       "  margin: .5ex;\n",
       "  width: min-content;\n",
       "  min-width: 20ex;\n",
       "  max-width: 50ex;\n",
       "  color: var(--sklearn-color-text);\n",
       "  box-shadow: 2pt 2pt 4pt #999;\n",
       "  /* unfitted */\n",
       "  background: var(--sklearn-color-unfitted-level-0);\n",
       "  border: .5pt solid var(--sklearn-color-unfitted-level-3);\n",
       "}\n",
       "\n",
       ".sk-estimator-doc-link.fitted span {\n",
       "  /* fitted */\n",
       "  background: var(--sklearn-color-fitted-level-0);\n",
       "  border: var(--sklearn-color-fitted-level-3);\n",
       "}\n",
       "\n",
       ".sk-estimator-doc-link:hover span {\n",
       "  display: block;\n",
       "}\n",
       "\n",
       "/* \"?\"-specific style due to the `<a>` HTML tag */\n",
       "\n",
       "#sk-container-id-1 a.estimator_doc_link {\n",
       "  float: right;\n",
       "  font-size: 1rem;\n",
       "  line-height: 1em;\n",
       "  font-family: monospace;\n",
       "  background-color: var(--sklearn-color-background);\n",
       "  border-radius: 1rem;\n",
       "  height: 1rem;\n",
       "  width: 1rem;\n",
       "  text-decoration: none;\n",
       "  /* unfitted */\n",
       "  color: var(--sklearn-color-unfitted-level-1);\n",
       "  border: var(--sklearn-color-unfitted-level-1) 1pt solid;\n",
       "}\n",
       "\n",
       "#sk-container-id-1 a.estimator_doc_link.fitted {\n",
       "  /* fitted */\n",
       "  border: var(--sklearn-color-fitted-level-1) 1pt solid;\n",
       "  color: var(--sklearn-color-fitted-level-1);\n",
       "}\n",
       "\n",
       "/* On hover */\n",
       "#sk-container-id-1 a.estimator_doc_link:hover {\n",
       "  /* unfitted */\n",
       "  background-color: var(--sklearn-color-unfitted-level-3);\n",
       "  color: var(--sklearn-color-background);\n",
       "  text-decoration: none;\n",
       "}\n",
       "\n",
       "#sk-container-id-1 a.estimator_doc_link.fitted:hover {\n",
       "  /* fitted */\n",
       "  background-color: var(--sklearn-color-fitted-level-3);\n",
       "}\n",
       "</style><div id=\"sk-container-id-1\" class=\"sk-top-container\"><div class=\"sk-text-repr-fallback\"><pre>MLPClassifier(hidden_layer_sizes=(16, 5), max_iter=10000, random_state=1)</pre><b>In a Jupyter environment, please rerun this cell to show the HTML representation or trust the notebook. <br />On GitHub, the HTML representation is unable to render, please try loading this page with nbviewer.org.</b></div><div class=\"sk-container\" hidden><div class=\"sk-item\"><div class=\"sk-estimator fitted sk-toggleable\"><input class=\"sk-toggleable__control sk-hidden--visually\" id=\"sk-estimator-id-1\" type=\"checkbox\" checked><label for=\"sk-estimator-id-1\" class=\"sk-toggleable__label fitted sk-toggleable__label-arrow fitted\">&nbsp;&nbsp;MLPClassifier<a class=\"sk-estimator-doc-link fitted\" rel=\"noreferrer\" target=\"_blank\" href=\"https://scikit-learn.org/1.5/modules/generated/sklearn.neural_network.MLPClassifier.html\">?<span>Documentation for MLPClassifier</span></a><span class=\"sk-estimator-doc-link fitted\">i<span>Fitted</span></span></label><div class=\"sk-toggleable__content fitted\"><pre>MLPClassifier(hidden_layer_sizes=(16, 5), max_iter=10000, random_state=1)</pre></div> </div></div></div></div>"
      ]
     },
     "execution_count": 10,
     "metadata": {},
     "output_type": "execute_result"
    }
   ],
   "execution_count": 10
  },
  {
   "cell_type": "markdown",
   "source": [
    "We can take a look at the 'loss' function as this trained. In scikitlearn the final loos is stored as model_object.loss_ and the historical values that would make the curve are stored as model_object.loss_curve_"
   ],
   "metadata": {
    "id": "-67bM0bqNYrA"
   },
   "id": "-67bM0bqNYrA"
  },
  {
   "cell_type": "code",
   "source": [
    "plt.plot(clf.loss_curve_)"
   ],
   "metadata": {
    "colab": {
     "base_uri": "https://localhost:8080/",
     "height": 447
    },
    "id": "nHOwzxj7JtpI",
    "executionInfo": {
     "status": "ok",
     "timestamp": 1727771643246,
     "user_tz": -60,
     "elapsed": 591,
     "user": {
      "displayName": "Becky Canning",
      "userId": "17585554670383182468"
     }
    },
    "outputId": "240f8d04-1796-40e5-e073-e6ab31674219",
    "ExecuteTime": {
     "end_time": "2024-10-02T11:59:20.144447Z",
     "start_time": "2024-10-02T11:59:20.102586Z"
    }
   },
   "id": "nHOwzxj7JtpI",
   "outputs": [
    {
     "data": {
      "text/plain": [
       "[<matplotlib.lines.Line2D at 0x30a93f450>]"
      ]
     },
     "execution_count": 11,
     "metadata": {},
     "output_type": "execute_result"
    },
    {
     "data": {
      "text/plain": [
       "<Figure size 640x480 with 1 Axes>"
      ],
      "image/png": "[encoded data removed]"
     },
     "metadata": {},
     "output_type": "display_data"
    }
   ],
   "execution_count": 11
  },
  {
   "metadata": {
    "id": "c51c883bf780063f"
   },
   "cell_type": "markdown",
   "source": [
    "With the network sufficiently trained (the loss curve is not changing greatly - although we will not know where we should have stopped training and if we are under- or over-trained unless we also tried the fit periodically through the training on a validation dataset), we can now use our test data to predict the values of the digits"
   ],
   "id": "c51c883bf780063f"
  },
  {
   "metadata": {
    "id": "ee9e162ff83991c7",
    "executionInfo": {
     "status": "ok",
     "timestamp": 1727770829859,
     "user_tz": -60,
     "elapsed": 32,
     "user": {
      "displayName": "Becky Canning",
      "userId": "17585554670383182468"
     }
    },
    "ExecuteTime": {
     "end_time": "2024-10-02T11:59:20.275797Z",
     "start_time": "2024-10-02T11:59:20.235203Z"
    }
   },
   "cell_type": "code",
   "source": [
    "predictions = clf.predict(testing_images.reshape((len(testing_images), -1)))"
   ],
   "id": "ee9e162ff83991c7",
   "outputs": [],
   "execution_count": 12
  },
  {
   "metadata": {
    "id": "2cbd5cefc0be5985"
   },
   "cell_type": "markdown",
   "source": [
    "Let's display the first 6 test samples and their predicted labels."
   ],
   "id": "2cbd5cefc0be5985"
  },
  {
   "metadata": {
    "id": "efc058ba4ba4beb7",
    "outputId": "3bc07bbe-6a87-434c-efbd-a066368ce1c2",
    "colab": {
     "base_uri": "https://localhost:8080/",
     "height": 245
    },
    "executionInfo": {
     "status": "ok",
     "timestamp": 1727770830720,
     "user_tz": -60,
     "elapsed": 883,
     "user": {
      "displayName": "Becky Canning",
      "userId": "17585554670383182468"
     }
    },
    "ExecuteTime": {
     "end_time": "2024-10-02T11:59:20.435117Z",
     "start_time": "2024-10-02T11:59:20.327169Z"
    }
   },
   "cell_type": "code",
   "source": [
    "fig, axes = plt.subplots(nrows=1, ncols=6, figsize=(20,3))\n",
    "for ax, image, prediction in zip(axes.flatten(), testing_images, predictions):\n",
    "    ax.set_axis_off()\n",
    "    ax.imshow(image, cmap='Greys')\n",
    "    ax.set(title=f\"Prediction: {prediction}\")\n",
    "plt.show()"
   ],
   "id": "efc058ba4ba4beb7",
   "outputs": [
    {
     "data": {
      "text/plain": [
       "<Figure size 2000x300 with 6 Axes>"
      ],
      "image/png": "[encoded data removed]"
     },
     "metadata": {},
     "output_type": "display_data"
    }
   ],
   "execution_count": 13
  },
  {
   "metadata": {
    "id": "be804873031640bc"
   },
   "cell_type": "markdown",
   "source": [
    "The classification report below provides some of the main classification metrics for our output labels."
   ],
   "id": "be804873031640bc"
  },
  {
   "metadata": {
    "id": "cdbd5c9c2c9d7f11",
    "outputId": "7fdf6ed8-b92e-4363-d8f1-4fa99713b313",
    "colab": {
     "base_uri": "https://localhost:8080/"
    },
    "executionInfo": {
     "status": "ok",
     "timestamp": 1727770830720,
     "user_tz": -60,
     "elapsed": 16,
     "user": {
      "displayName": "Becky Canning",
      "userId": "17585554670383182468"
     }
    },
    "ExecuteTime": {
     "end_time": "2024-10-02T11:59:20.476077Z",
     "start_time": "2024-10-02T11:59:20.463009Z"
    }
   },
   "cell_type": "code",
   "source": [
    "print(f\"Classification report for {clf}:\\n{metrics.classification_report(testing_labels, predictions)}\")"
   ],
   "id": "cdbd5c9c2c9d7f11",
   "outputs": [
    {
     "name": "stdout",
     "output_type": "stream",
     "text": [
      "Classification report for MLPClassifier(hidden_layer_sizes=(16, 5), max_iter=10000, random_state=1):\n",
      "              precision    recall  f1-score   support\n",
      "\n",
      "           0       0.96      0.96      0.96       980\n",
      "           1       0.95      0.98      0.97      1135\n",
      "           2       0.96      0.91      0.93      1032\n",
      "           3       0.91      0.93      0.92      1010\n",
      "           4       0.94      0.93      0.93       982\n",
      "           5       0.86      0.91      0.88       892\n",
      "           6       0.95      0.94      0.94       958\n",
      "           7       0.93      0.91      0.92      1028\n",
      "           8       0.91      0.90      0.90       974\n",
      "           9       0.89      0.90      0.89      1009\n",
      "\n",
      "    accuracy                           0.93     10000\n",
      "   macro avg       0.93      0.93      0.93     10000\n",
      "weighted avg       0.93      0.93      0.93     10000\n",
      "\n"
     ]
    }
   ],
   "execution_count": 14
  },
  {
   "metadata": {
    "id": "b26993dfdac08de7"
   },
   "cell_type": "markdown",
   "source": [
    "The confusion matrix is another great diagnostic to see how our model has performed compared to the expected output."
   ],
   "id": "b26993dfdac08de7"
  },
  {
   "metadata": {
    "id": "9139e4a50bbffb0a",
    "outputId": "42300b8a-5c2a-4f74-8206-e8acc08904ae",
    "colab": {
     "base_uri": "https://localhost:8080/",
     "height": 497
    },
    "executionInfo": {
     "status": "ok",
     "timestamp": 1727770831704,
     "user_tz": -60,
     "elapsed": 995,
     "user": {
      "displayName": "Becky Canning",
      "userId": "17585554670383182468"
     }
    },
    "ExecuteTime": {
     "end_time": "2024-10-02T11:59:20.574861Z",
     "start_time": "2024-10-02T11:59:20.486547Z"
    }
   },
   "cell_type": "code",
   "source": [
    "disp = metrics.ConfusionMatrixDisplay.from_predictions(testing_labels, predictions)\n",
    "disp.figure_.suptitle('Confusion Matrix for Scikit-learn Model')\n",
    "plt.show()"
   ],
   "id": "9139e4a50bbffb0a",
   "outputs": [
    {
     "data": {
      "text/plain": [
       "<Figure size 640x480 with 2 Axes>"
      ],
      "image/png": "[encoded data removed]"
     },
     "metadata": {},
     "output_type": "display_data"
    }
   ],
   "execution_count": 15
  },
  {
   "metadata": {
    "id": "111064804c7417d5"
   },
   "cell_type": "markdown",
   "source": [
    "## PyTorch\n",
    "Now using PyTorch, we will try to perform the same example. PyTorch provides a more advanced API, allowing for us to target specific hardware to run our training on (so we can move toward deep learning with GPUs) and instead of just providing pre-constructed network options, PyTorch encourages us to define our own model explicitly. This allows us to have some finer control on how exactly we want to set up our network architecture."
   ],
   "id": "111064804c7417d5"
  },
  {
   "metadata": {
    "id": "36bea895951b3d4d",
    "executionInfo": {
     "status": "ok",
     "timestamp": 1727770831705,
     "user_tz": -60,
     "elapsed": 24,
     "user": {
      "displayName": "Becky Canning",
      "userId": "17585554670383182468"
     }
    },
    "ExecuteTime": {
     "end_time": "2024-10-02T11:59:20.591657Z",
     "start_time": "2024-10-02T11:59:20.588947Z"
    }
   },
   "cell_type": "code",
   "source": [
    "import torch\n",
    "# We are importing two PyTorch submodules, `nn` provides the neural network methods to define the neural network while `optim` provides the optimizer methods which we will use to define how our training will be done.\n",
    "from torch import nn, optim\n",
    "# PyTorch wraps its data into an iterable that allows us to break up our data into \"minibatches\" as we are training and allows multiprocessing to be done easily.\n",
    "from torch.utils.data import DataLoader"
   ],
   "id": "36bea895951b3d4d",
   "outputs": [],
   "execution_count": 16
  },
  {
   "metadata": {
    "id": "90ae28efe9120978"
   },
   "cell_type": "markdown",
   "source": [
    "pyTorch uses a `DataLoader` class to wrap an iterable around the dataset. If we were providing our own dataset, we would use the `Dataset` class to store the samples first."
   ],
   "id": "90ae28efe9120978"
  },
  {
   "metadata": {
    "id": "c8c6624dc15aec3e",
    "executionInfo": {
     "status": "ok",
     "timestamp": 1727770831705,
     "user_tz": -60,
     "elapsed": 22,
     "user": {
      "displayName": "Becky Canning",
      "userId": "17585554670383182468"
     }
    },
    "ExecuteTime": {
     "end_time": "2024-10-02T11:59:20.602723Z",
     "start_time": "2024-10-02T11:59:20.600243Z"
    }
   },
   "cell_type": "code",
   "source": [
    "train_loader = DataLoader(mnist_training, batch_size=64, shuffle=True)\n",
    "test_loader = DataLoader(mnist_testing, batch_size=64, shuffle=True)"
   ],
   "id": "c8c6624dc15aec3e",
   "outputs": [],
   "execution_count": 17
  },
  {
   "metadata": {
    "id": "7c90a0d571435dee"
   },
   "cell_type": "markdown",
   "source": [
    "With PyTorch, we can directly target the hardware we have available so that we can run our network very efficiently."
   ],
   "id": "7c90a0d571435dee"
  },
  {
   "metadata": {
    "id": "a3677b634f88beb6",
    "outputId": "5a8c5a92-4b06-45cd-90e5-660fd2369bbb",
    "colab": {
     "base_uri": "https://localhost:8080/"
    },
    "executionInfo": {
     "status": "ok",
     "timestamp": 1727770831705,
     "user_tz": -60,
     "elapsed": 20,
     "user": {
      "displayName": "Becky Canning",
      "userId": "17585554670383182468"
     }
    },
    "ExecuteTime": {
     "end_time": "2024-10-02T11:59:20.615167Z",
     "start_time": "2024-10-02T11:59:20.612830Z"
    }
   },
   "cell_type": "code",
   "source": [
    "device = (\n",
    "    'cuda' if torch.cuda.is_available()\n",
    "    else 'mps'\n",
    "    if torch.backends.mps.is_available()\n",
    "    else 'cpu')\n",
    "print(f'Using {device = }')"
   ],
   "id": "a3677b634f88beb6",
   "outputs": [
    {
     "name": "stdout",
     "output_type": "stream",
     "text": [
      "Using device = 'cpu'\n"
     ]
    }
   ],
   "execution_count": 18
  },
  {
   "metadata": {
    "id": "3b1dca82886aa20e"
   },
   "cell_type": "markdown",
   "source": [
    "PyTorch allows us to build the neural network layer by layer. Commonly (though it is not strictly required) this is done by defining a Python class. Like before, we will have 5 hidden layers of 16 neurons each using a ReLU normalization in between."
   ],
   "id": "3b1dca82886aa20e"
  },
  {
   "metadata": {
    "id": "9ea76f0717c98a30",
    "executionInfo": {
     "status": "ok",
     "timestamp": 1727770831705,
     "user_tz": -60,
     "elapsed": 18,
     "user": {
      "displayName": "Becky Canning",
      "userId": "17585554670383182468"
     }
    },
    "ExecuteTime": {
     "end_time": "2024-10-02T11:59:20.626857Z",
     "start_time": "2024-10-02T11:59:20.623536Z"
    }
   },
   "cell_type": "code",
   "source": [
    "class NeuralNet(nn.Module):\n",
    "    def __init__(self, *args, **kwargs):\n",
    "        super().__init__(*args, **kwargs)\n",
    "        # First, we will make sure that our input data is flattened.\n",
    "        self.flatten = nn.Flatten()\n",
    "\n",
    "        # Now we will define our network building sequential layers\n",
    "        self.linear_relu_stack = nn.Sequential(\n",
    "            nn.Linear(784, 16),  # This is our input layer\n",
    "            nn.ReLU(),\n",
    "            nn.Linear(16, 16),\n",
    "            nn.ReLU(),\n",
    "            nn.Linear(16, 16),\n",
    "            nn.ReLU(),\n",
    "            nn.Linear(16, 16),\n",
    "            nn.ReLU(),\n",
    "            nn.Linear(16, 16),\n",
    "            nn.ReLU(),\n",
    "            nn.Linear(16, 10)   # This is our output layer\n",
    "        )\n",
    "\n",
    "    def forward(self, x):\n",
    "        \"\"\"This method does the forward pass operation in the network.\"\"\"\n",
    "        x = self.flatten(x)\n",
    "        logits = self.linear_relu_stack(x)\n",
    "        return logits"
   ],
   "id": "9ea76f0717c98a30",
   "outputs": [],
   "execution_count": 19
  },
  {
   "metadata": {
    "id": "8995cec6f1f4fa0"
   },
   "cell_type": "markdown",
   "source": [
    "Now that our model has been defined, we can initialize it and print it out."
   ],
   "id": "8995cec6f1f4fa0"
  },
  {
   "metadata": {
    "id": "bc3a0fc5e00a22b3",
    "outputId": "a37272bd-178a-4186-f3f8-29fb4a9143a5",
    "colab": {
     "base_uri": "https://localhost:8080/"
    },
    "executionInfo": {
     "status": "ok",
     "timestamp": 1727770831706,
     "user_tz": -60,
     "elapsed": 17,
     "user": {
      "displayName": "Becky Canning",
      "userId": "17585554670383182468"
     }
    },
    "ExecuteTime": {
     "end_time": "2024-10-02T11:59:20.646049Z",
     "start_time": "2024-10-02T11:59:20.642068Z"
    }
   },
   "cell_type": "code",
   "source": [
    "model = NeuralNet().to(device)\n",
    "print(model)"
   ],
   "id": "bc3a0fc5e00a22b3",
   "outputs": [
    {
     "name": "stdout",
     "output_type": "stream",
     "text": [
      "NeuralNet(\n",
      "  (flatten): Flatten(start_dim=1, end_dim=-1)\n",
      "  (linear_relu_stack): Sequential(\n",
      "    (0): Linear(in_features=784, out_features=16, bias=True)\n",
      "    (1): ReLU()\n",
      "    (2): Linear(in_features=16, out_features=16, bias=True)\n",
      "    (3): ReLU()\n",
      "    (4): Linear(in_features=16, out_features=16, bias=True)\n",
      "    (5): ReLU()\n",
      "    (6): Linear(in_features=16, out_features=16, bias=True)\n",
      "    (7): ReLU()\n",
      "    (8): Linear(in_features=16, out_features=16, bias=True)\n",
      "    (9): ReLU()\n",
      "    (10): Linear(in_features=16, out_features=10, bias=True)\n",
      "  )\n",
      ")\n"
     ]
    }
   ],
   "execution_count": 20
  },
  {
   "metadata": {
    "id": "8f52ecd089b7b277"
   },
   "cell_type": "markdown",
   "source": [
    "Here we are going to use the same stochastic gradient descent optimizer for training as we did in the previous example."
   ],
   "id": "8f52ecd089b7b277"
  },
  {
   "metadata": {
    "id": "8fdc567b33583c13",
    "executionInfo": {
     "status": "ok",
     "timestamp": 1727770831706,
     "user_tz": -60,
     "elapsed": 11,
     "user": {
      "displayName": "Becky Canning",
      "userId": "17585554670383182468"
     }
    },
    "ExecuteTime": {
     "end_time": "2024-10-02T11:59:20.670365Z",
     "start_time": "2024-10-02T11:59:20.667180Z"
    }
   },
   "cell_type": "code",
   "source": [
    "optimizer = optim.Adam(model.parameters(), lr=0.001)"
   ],
   "id": "8fdc567b33583c13",
   "outputs": [],
   "execution_count": 21
  },
  {
   "metadata": {
    "id": "816541e472082b52"
   },
   "cell_type": "markdown",
   "source": [
    "We will train the network using backpropagation just as before. But only over 5 epochs.\n",
    "\n",
    "The steps here are:\n"
   ],
   "id": "816541e472082b52"
  },
  {
   "metadata": {
    "id": "6d268bb166ab71b9",
    "colab": {
     "base_uri": "https://localhost:8080/"
    },
    "executionInfo": {
     "status": "ok",
     "timestamp": 1727772590932,
     "user_tz": -60,
     "elapsed": 59654,
     "user": {
      "displayName": "Becky Canning",
      "userId": "17585554670383182468"
     }
    },
    "outputId": "d216decd-7a88-4f79-d7c1-15e64b7db8cc",
    "ExecuteTime": {
     "end_time": "2024-10-02T11:59:47.178519Z",
     "start_time": "2024-10-02T11:59:20.678570Z"
    }
   },
   "cell_type": "code",
   "source": [
    "model.train() # model is now in 'train' mode\n",
    "for epoch in range(5):\n",
    "    for images, labels in train_loader:\n",
    "        images, labels = images.to(device), labels.to(device)\n",
    "        optimizer.zero_grad() #reset grdient to zero\n",
    "        outputs = model(images) # predict outputs from inputs\n",
    "        loss = nn.CrossEntropyLoss()(outputs, labels) # calculate loss\n",
    "        loss.backward() # compute gradients using backpropagation\n",
    "        optimizer.step() # update parameters"
   ],
   "id": "6d268bb166ab71b9",
   "outputs": [],
   "execution_count": 22
  },
  {
   "metadata": {
    "id": "b8e0955abafbe41e"
   },
   "cell_type": "markdown",
   "source": [
    "Now that our model has been trained, we can test it by evaluating our testing data"
   ],
   "id": "b8e0955abafbe41e"
  },
  {
   "metadata": {
    "id": "7a7f0bf61d0e2433",
    "executionInfo": {
     "status": "ok",
     "timestamp": 1727770884819,
     "user_tz": -60,
     "elapsed": 28,
     "user": {
      "displayName": "Becky Canning",
      "userId": "17585554670383182468"
     }
    },
    "ExecuteTime": {
     "end_time": "2024-10-02T11:59:47.241918Z",
     "start_time": "2024-10-02T11:59:47.215034Z"
    }
   },
   "cell_type": "code",
   "source": [
    "model.eval()\n",
    "with torch.no_grad():\n",
    "    predictions = model(torch.as_tensor(testing_images, dtype=torch.float).to(device))"
   ],
   "id": "7a7f0bf61d0e2433",
   "outputs": [],
   "execution_count": 23
  },
  {
   "metadata": {
    "id": "69875cfb825fd439"
   },
   "cell_type": "markdown",
   "source": [
    "Looking at some of our results. One thing to note about this PyTorch output is that the `predictions` object contains all the probabilities of the possible outputs. If we want to see the most likely output, we will need to take the maximum probable result. (Or add another activation function suchn as a sigmoid to the output layer of our neural network)."
   ],
   "id": "69875cfb825fd439"
  },
  {
   "metadata": {
    "id": "193694533b59548f",
    "outputId": "20b68c16-8fd1-4762-ab85-74748634f446",
    "colab": {
     "base_uri": "https://localhost:8080/",
     "height": 245
    },
    "executionInfo": {
     "status": "ok",
     "timestamp": 1727770885341,
     "user_tz": -60,
     "elapsed": 543,
     "user": {
      "displayName": "Becky Canning",
      "userId": "17585554670383182468"
     }
    },
    "ExecuteTime": {
     "end_time": "2024-10-02T11:59:47.379345Z",
     "start_time": "2024-10-02T11:59:47.270240Z"
    }
   },
   "cell_type": "code",
   "source": [
    "most_likely_output = predictions.data.max(dim=1)[1].cpu().numpy()\n",
    "\n",
    "fig, axes = plt.subplots(nrows=1, ncols=6, figsize=(20,3))\n",
    "for ax, image, prediction in zip(axes.flatten(), testing_images, most_likely_output):\n",
    "    ax.set_axis_off()\n",
    "    ax.imshow(image, cmap='Greys')\n",
    "    ax.set(title=f\"Prediction: {prediction}\")\n",
    "plt.show()"
   ],
   "id": "193694533b59548f",
   "outputs": [
    {
     "data": {
      "text/plain": [
       "<Figure size 2000x300 with 6 Axes>"
      ],
      "image/png": "[encoded data removed]"
     },
     "metadata": {},
     "output_type": "display_data"
    }
   ],
   "execution_count": 24
  },
  {
   "metadata": {
    "id": "74884a7bf9c3c1d"
   },
   "cell_type": "markdown",
   "source": [
    "And we can also use the Scikit-learn `classification_report` function and confusion matrix on our PyTorch results."
   ],
   "id": "74884a7bf9c3c1d"
  },
  {
   "metadata": {
    "id": "522cfd9624fd7a20",
    "outputId": "bda84d15-f005-4fe6-a8c2-937db1876a6e",
    "colab": {
     "base_uri": "https://localhost:8080/"
    },
    "executionInfo": {
     "status": "ok",
     "timestamp": 1727770885342,
     "user_tz": -60,
     "elapsed": 12,
     "user": {
      "displayName": "Becky Canning",
      "userId": "17585554670383182468"
     }
    },
    "ExecuteTime": {
     "end_time": "2024-10-02T11:59:47.413071Z",
     "start_time": "2024-10-02T11:59:47.398302Z"
    }
   },
   "cell_type": "code",
   "source": [
    "print(f'Classification report for PyTorch Model:\\n{metrics.classification_report(testing_labels, most_likely_output)}')\n"
   ],
   "id": "522cfd9624fd7a20",
   "outputs": [
    {
     "name": "stdout",
     "output_type": "stream",
     "text": [
      "Classification report for PyTorch Model:\n",
      "              precision    recall  f1-score   support\n",
      "\n",
      "           0       0.95      0.98      0.96       980\n",
      "           1       0.96      0.98      0.97      1135\n",
      "           2       0.98      0.82      0.89      1032\n",
      "           3       0.84      0.91      0.87      1010\n",
      "           4       0.96      0.89      0.93       982\n",
      "           5       0.90      0.91      0.90       892\n",
      "           6       0.96      0.95      0.95       958\n",
      "           7       0.94      0.94      0.94      1028\n",
      "           8       0.91      0.89      0.90       974\n",
      "           9       0.84      0.94      0.89      1009\n",
      "\n",
      "    accuracy                           0.92     10000\n",
      "   macro avg       0.92      0.92      0.92     10000\n",
      "weighted avg       0.92      0.92      0.92     10000\n",
      "\n"
     ]
    }
   ],
   "execution_count": 25
  },
  {
   "metadata": {
    "id": "2797376e384c9b68",
    "outputId": "2d115524-57f8-48d1-eef9-d45d57e9d968",
    "colab": {
     "base_uri": "https://localhost:8080/",
     "height": 497
    },
    "executionInfo": {
     "status": "ok",
     "timestamp": 1727770886020,
     "user_tz": -60,
     "elapsed": 684,
     "user": {
      "displayName": "Becky Canning",
      "userId": "17585554670383182468"
     }
    },
    "ExecuteTime": {
     "end_time": "2024-10-02T11:59:47.614722Z",
     "start_time": "2024-10-02T11:59:47.447437Z"
    }
   },
   "cell_type": "code",
   "source": [
    "disp = metrics.ConfusionMatrixDisplay.from_predictions(testing_labels, most_likely_output)\n",
    "disp.figure_.suptitle('Confusion Matrix for PyTorch Model')\n",
    "plt.show()"
   ],
   "id": "2797376e384c9b68",
   "outputs": [
    {
     "data": {
      "text/plain": [
       "<Figure size 640x480 with 2 Axes>"
      ],
      "image/png": "[encoded data removed]"
     },
     "metadata": {},
     "output_type": "display_data"
    }
   ],
   "execution_count": 26
  },
  {
   "cell_type": "markdown",
   "source": [
    "But we would like to see the loss function - AND - pytorch, tensorflow and other codes have the ability to take a separate validation set and print those too.\n",
    "\n",
    "Let's start by makeing a train-test-split sample.\n",
    "\n",
    "So we have:"
   ],
   "metadata": {
    "id": "ouxKJAu6SeCP"
   },
   "id": "ouxKJAu6SeCP"
  },
  {
   "cell_type": "code",
   "source": [
    "import torchvision\n",
    "from torch.utils.data import DataLoader, Subset\n",
    "from sklearn.model_selection import train_test_split\n",
    "\n",
    "VAL_SIZE = 0.1 # using 10% of our data\n",
    "BATCH_SIZE = 64 # same size as above\n",
    "\n",
    "# we already have located and downloaded our training and testing datasets\n",
    "#mnist_training\n",
    "#mnist_testing\n",
    "\n",
    "# we use scikitlearn to create a train / vaidiation split for us which keeps balenced classes\n",
    "# generate indices: instead of the actual data we pass in integers instead\n",
    "train_indices, val_indices, _, _ = train_test_split(\n",
    "    range(len(mnist_training)),\n",
    "    mnist_training.targets,\n",
    "    stratify=mnist_training.targets,\n",
    "    test_size=VAL_SIZE,\n",
    ")\n",
    "\n",
    "# generate a subset based on the indices from this sklearn train_test_split routine\n",
    "train_split = Subset(mnist_training, train_indices)\n",
    "val_split = Subset(mnist_training, val_indices)\n",
    "\n",
    "# create batches\n",
    "train_batches = DataLoader(train_split, batch_size=BATCH_SIZE, shuffle=True)\n",
    "val_batches = DataLoader(val_split, batch_size=BATCH_SIZE, shuffle=True)\n",
    "test_batches = DataLoader(mnist_testing, batch_size=BATCH_SIZE, shuffle=True)"
   ],
   "metadata": {
    "id": "9-f_45dMSdbA",
    "executionInfo": {
     "status": "ok",
     "timestamp": 1727778463780,
     "user_tz": -60,
     "elapsed": 233,
     "user": {
      "displayName": "Becky Canning",
      "userId": "17585554670383182468"
     }
    },
    "ExecuteTime": {
     "end_time": "2024-10-02T11:59:47.647024Z",
     "start_time": "2024-10-02T11:59:47.632096Z"
    }
   },
   "id": "9-f_45dMSdbA",
   "outputs": [],
   "execution_count": 27
  },
  {
   "cell_type": "markdown",
   "source": [
    "the model is going to stay the same and we'll use the same optimizer..."
   ],
   "metadata": {
    "id": "hCe5m_rdYjZ3"
   },
   "id": "hCe5m_rdYjZ3"
  },
  {
   "cell_type": "code",
   "source": [
    "class NeuralNet(nn.Module):\n",
    "    def __init__(self, *args, **kwargs):\n",
    "        super().__init__(*args, **kwargs)\n",
    "        # First, we will make sure that our input data is flattened.\n",
    "        self.flatten = nn.Flatten()\n",
    "\n",
    "        # Now we will define our network building sequential layers\n",
    "        self.linear_relu_stack = nn.Sequential(\n",
    "            nn.Linear(784, 16),  # This is our input layer\n",
    "            nn.ReLU(),\n",
    "            nn.Linear(16, 16),\n",
    "            nn.ReLU(),\n",
    "            nn.Linear(16, 16),\n",
    "            nn.ReLU(),\n",
    "            nn.Linear(16, 16),\n",
    "            nn.ReLU(),\n",
    "            nn.Linear(16, 16),\n",
    "            nn.ReLU(),\n",
    "            nn.Linear(16, 10)   # This is our output layer\n",
    "        )\n",
    "\n",
    "    def forward(self, x):\n",
    "        \"\"\"This method does the forward pass operation in the network.\"\"\"\n",
    "        x = self.flatten(x)\n",
    "        logits = self.linear_relu_stack(x)\n",
    "        return logits\n",
    "\n",
    "model = NeuralNet().to(device)\n",
    "\n",
    "optimizer = optim.Adam(model.parameters(), lr=0.001)"
   ],
   "metadata": {
    "id": "6p_JD2mCYp3H",
    "executionInfo": {
     "status": "ok",
     "timestamp": 1727778199255,
     "user_tz": -60,
     "elapsed": 244,
     "user": {
      "displayName": "Becky Canning",
      "userId": "17585554670383182468"
     }
    },
    "ExecuteTime": {
     "end_time": "2024-10-02T11:59:47.655201Z",
     "start_time": "2024-10-02T11:59:47.650027Z"
    }
   },
   "id": "6p_JD2mCYp3H",
   "outputs": [],
   "execution_count": 28
  },
  {
   "cell_type": "markdown",
   "source": [
    "**BUT** we will change the training loop we had this before:"
   ],
   "metadata": {
    "id": "m0nASjF1Y5Aq"
   },
   "id": "m0nASjF1Y5Aq"
  },
  {
   "cell_type": "code",
   "source": [
    "#model.train() # model is now in 'train' mode\n",
    "#for epoch in range(5):\n",
    "#    for images, labels in train_loader:\n",
    "#        images, labels = images.to(device), labels.to(device)\n",
    "#        optimizer.zero_grad() #reset grdient to zero\n",
    "#        outputs = model(images) # predict outputs from inputs\n",
    "#        loss = nn.CrossEntropyLoss()(outputs, labels) # calculate loss\n",
    "#        loss.backward() # compute gradients using backpropagation\n",
    "#        optimizer.step() # update parameters"
   ],
   "metadata": {
    "id": "PUGBIBqQY7_x",
    "executionInfo": {
     "status": "ok",
     "timestamp": 1727778200618,
     "user_tz": -60,
     "elapsed": 244,
     "user": {
      "displayName": "Becky Canning",
      "userId": "17585554670383182468"
     }
    },
    "ExecuteTime": {
     "end_time": "2024-10-02T11:59:47.665204Z",
     "start_time": "2024-10-02T11:59:47.663628Z"
    }
   },
   "id": "PUGBIBqQY7_x",
   "outputs": [],
   "execution_count": 29
  },
  {
   "cell_type": "markdown",
   "source": [
    "And the steps we see in the comments are:\n",
    "\n",
    "* model is now in 'train' mode\n",
    "* reset grdient to zero\n",
    "* predict outputs from inputs\n",
    "* calculate loss\n",
    "* compute gradients using backpropagation\n",
    "* update parameters\n",
    "\n",
    "We will now add\n",
    "\n",
    "* compute accuracy and loss"
   ],
   "metadata": {
    "id": "XP24cBC3f6Vq"
   },
   "id": "XP24cBC3f6Vq"
  },
  {
   "cell_type": "code",
   "source": [
    "def train(dataloader, model, optimizer): # we could pass a function for loss function in here too\n",
    "\n",
    "    # Total size of dataset for reference\n",
    "    size = 0\n",
    "    model.train() # model is now in 'train' mode\n",
    "\n",
    "    # storing stuff for when we compute accuracy and loss per batch\n",
    "    batch_loss = {}\n",
    "    batch_accuracy = {}\n",
    "    correct = 0\n",
    "    _correct = 0\n",
    "\n",
    "    # Gives X , y for each batch (images and labels or 'outputs' for each batch for us)\n",
    "    for batch, (X, y) in enumerate(dataloader):\n",
    "\n",
    "        # the below is just like our images, labels = images.to(device), labels.to(device)\n",
    "        X, y = X.to(device), y.to(device)\n",
    "        model.to(device)\n",
    "        optimizer.zero_grad() #reset grdient to zero\n",
    "        y_pred = model(X) # outputs = model(images)\n",
    "        loss = nn.CrossEntropyLoss()(y_pred, y) # calculate loss\n",
    "        loss.backward() # compute gradients using backpropagation\n",
    "        optimizer.step()  # update parameters\n",
    "\n",
    "        #now we compute stuff\n",
    "        _correct = (y_pred.argmax(1) == y).type(torch.float).sum().item()\n",
    "        _batch_size = len(X)\n",
    "        correct += _correct\n",
    "\n",
    "        # Updating loss_batch and batch_accuracy\n",
    "        batch_loss[batch] = loss.item()\n",
    "        batch_accuracy[batch] = _correct/_batch_size\n",
    "\n",
    "        size += _batch_size\n",
    "\n",
    "        if batch % 100 == 0:\n",
    "            loss, current = loss.item(), batch * len(X)\n",
    "            print(f\"loss: {loss:>7f}  [{current:>5d}]\")\n",
    "\n",
    "    correct/=size\n",
    "    print(f\"Train Accuracy: {(100*correct):>0.1f}%\")\n",
    "\n",
    "    return batch_loss , batch_accuracy"
   ],
   "metadata": {
    "id": "Vtu4VPITcWkx",
    "executionInfo": {
     "status": "ok",
     "timestamp": 1727778201611,
     "user_tz": -60,
     "elapsed": 2,
     "user": {
      "displayName": "Becky Canning",
      "userId": "17585554670383182468"
     }
    },
    "ExecuteTime": {
     "end_time": "2024-10-02T12:17:32.005294Z",
     "start_time": "2024-10-02T12:17:31.289436Z"
    }
   },
   "id": "Vtu4VPITcWkx",
   "outputs": [],
   "execution_count": 31
  },
  {
   "cell_type": "markdown",
   "source": [
    "We do 'almost' the same thign with our validation sample but we don't update anything."
   ],
   "metadata": {
    "id": "NGIaiGI2jcVx"
   },
   "id": "NGIaiGI2jcVx"
  },
  {
   "cell_type": "code",
   "source": [
    "def validation(dataloader, model): # we could pass a function for loss function in here too\n",
    "\n",
    "    # Total size of dataset for reference\n",
    "    size = 0\n",
    "    num_batches = len(dataloader)\n",
    "\n",
    "    # Model is now in 'evaluation' mode.\n",
    "    model.eval()\n",
    "\n",
    "    test_loss, correct = 0, 0\n",
    "    _correct = 0\n",
    "    _batch_size = 0\n",
    "    batch_loss = {}\n",
    "    batch_accuracy = {}\n",
    "\n",
    "    with torch.no_grad(): # we are not backpropagating and updating - we are only evaluating\n",
    "\n",
    "        # Gives X , y for each batch\n",
    "        for batch , (X, y) in enumerate(dataloader):\n",
    "\n",
    "            X, y = X.to(device), y.to(device)\n",
    "            model.to(device)\n",
    "            y_pred = model(X)\n",
    "\n",
    "            batch_loss[batch] = nn.CrossEntropyLoss()(y_pred, y)\n",
    "            test_loss += batch_loss[batch]\n",
    "            _batch_size = len(X)\n",
    "\n",
    "            _correct = (y_pred.argmax(1) == y).type(torch.float).sum().item()\n",
    "            correct += _correct\n",
    "\n",
    "            size+=_batch_size\n",
    "            batch_accuracy[batch] = _correct/_batch_size\n",
    "\n",
    "    ## Calculating loss based on loss function defined\n",
    "    test_loss /= num_batches\n",
    "\n",
    "    ## Calculating Accuracy based on how many y match with y_pred\n",
    "    correct /= size\n",
    "\n",
    "    print(f\"Valid Error: \\n Accuracy: {(100*correct):>0.1f}%, Avg loss: {test_loss:>8f} \\n\")\n",
    "\n",
    "    return batch_loss , batch_accuracy"
   ],
   "metadata": {
    "id": "_qC6oKxaioY5",
    "executionInfo": {
     "status": "ok",
     "timestamp": 1727778202829,
     "user_tz": -60,
     "elapsed": 231,
     "user": {
      "displayName": "Becky Canning",
      "userId": "17585554670383182468"
     }
    },
    "ExecuteTime": {
     "end_time": "2024-10-02T12:18:10.114773Z",
     "start_time": "2024-10-02T12:18:10.111715Z"
    }
   },
   "id": "_qC6oKxaioY5",
   "outputs": [],
   "execution_count": 32
  },
  {
   "cell_type": "markdown",
   "source": [
    "Then we train in epochs calling the train and validate samples"
   ],
   "metadata": {
    "id": "UViiSkVKjrUH"
   },
   "id": "UViiSkVKjrUH"
  },
  {
   "cell_type": "code",
   "source": [
    "# define some empty lists to appeand results to\n",
    "train_batch_loss = []\n",
    "train_batch_accuracy = []\n",
    "valid_batch_accuracy = []\n",
    "valid_batch_loss = []\n",
    "train_epoch_no = []\n",
    "valid_epoch_no = []\n",
    "\n",
    "# and let's run our train_batches and val_batches codes -\n",
    "epochs = 20\n",
    "for t in range(epochs):\n",
    "    print(f\"Epoch {t+1}\\n-------------------------------\")\n",
    "    _train_batch_loss , _train_batch_accuracy = train(train_batches, model, optimizer)\n",
    "    _valid_batch_loss , _valid_batch_accuracy = validation(val_batches, model)\n",
    "    for i in range(len(_train_batch_loss)):\n",
    "        train_batch_loss.append(_train_batch_loss[i])\n",
    "        train_batch_accuracy.append(_train_batch_accuracy[i])\n",
    "        train_epoch_no.append( t + float((i+1)/len(_train_batch_loss)))\n",
    "    for i in range(len(_valid_batch_loss)):\n",
    "        valid_batch_loss.append(_valid_batch_loss[i])\n",
    "        valid_batch_accuracy.append(_valid_batch_accuracy[i])\n",
    "        valid_epoch_no.append( t + float((i+1)/len(_valid_batch_loss)))\n",
    "print(\"Done!\")"
   ],
   "metadata": {
    "colab": {
     "base_uri": "https://localhost:8080/"
    },
    "id": "XGgLxnHjjSv9",
    "executionInfo": {
     "status": "ok",
     "timestamp": 1727778413734,
     "user_tz": -60,
     "elapsed": 210074,
     "user": {
      "displayName": "Becky Canning",
      "userId": "17585554670383182468"
     }
    },
    "outputId": "05b59e67-cef0-4e0f-8da3-07f344873449",
    "ExecuteTime": {
     "end_time": "2024-10-02T12:19:54.595810Z",
     "start_time": "2024-10-02T12:18:14.945556Z"
    }
   },
   "id": "XGgLxnHjjSv9",
   "outputs": [
    {
     "name": "stdout",
     "output_type": "stream",
     "text": [
      "Epoch 1\n",
      "-------------------------------\n",
      "loss: 2.335364  [    0]\n",
      "loss: 1.389397  [ 6400]\n",
      "loss: 0.918376  [12800]\n",
      "loss: 0.858763  [19200]\n",
      "loss: 0.951180  [25600]\n",
      "loss: 0.556343  [32000]\n",
      "loss: 0.390199  [38400]\n",
      "loss: 0.524257  [44800]\n",
      "loss: 0.592038  [51200]\n",
      "Train Accuracy: 67.3%\n",
      "Valid Error: \n",
      " Accuracy: 82.4%, Avg loss: 0.574235 \n",
      "\n",
      "Epoch 2\n",
      "-------------------------------\n",
      "loss: 0.496305  [    0]\n",
      "loss: 0.490826  [ 6400]\n",
      "loss: 0.481814  [12800]\n",
      "loss: 0.640193  [19200]\n",
      "loss: 0.388850  [25600]\n",
      "loss: 0.491841  [32000]\n",
      "loss: 0.451382  [38400]\n",
      "loss: 0.649399  [44800]\n",
      "loss: 0.577265  [51200]\n",
      "Train Accuracy: 86.9%\n",
      "Valid Error: \n",
      " Accuracy: 90.1%, Avg loss: 0.373301 \n",
      "\n",
      "Epoch 3\n",
      "-------------------------------\n",
      "loss: 0.230313  [    0]\n",
      "loss: 0.335032  [ 6400]\n",
      "loss: 0.170186  [12800]\n",
      "loss: 0.135578  [19200]\n",
      "loss: 0.249519  [25600]\n",
      "loss: 0.342181  [32000]\n",
      "loss: 0.417404  [38400]\n",
      "loss: 0.405339  [44800]\n",
      "loss: 0.344943  [51200]\n",
      "Train Accuracy: 90.4%\n",
      "Valid Error: \n",
      " Accuracy: 91.7%, Avg loss: 0.307168 \n",
      "\n",
      "Epoch 4\n",
      "-------------------------------\n",
      "loss: 0.254164  [    0]\n",
      "loss: 0.421448  [ 6400]\n",
      "loss: 0.422169  [12800]\n",
      "loss: 0.212172  [19200]\n",
      "loss: 0.433799  [25600]\n",
      "loss: 0.142763  [32000]\n",
      "loss: 0.353868  [38400]\n",
      "loss: 0.117190  [44800]\n",
      "loss: 0.123284  [51200]\n",
      "Train Accuracy: 92.0%\n",
      "Valid Error: \n",
      " Accuracy: 92.2%, Avg loss: 0.281479 \n",
      "\n",
      "Epoch 5\n",
      "-------------------------------\n",
      "loss: 0.332990  [    0]\n",
      "loss: 0.249330  [ 6400]\n",
      "loss: 0.457273  [12800]\n",
      "loss: 0.269589  [19200]\n",
      "loss: 0.209265  [25600]\n",
      "loss: 0.324167  [32000]\n",
      "loss: 0.140201  [38400]\n",
      "loss: 0.241345  [44800]\n",
      "loss: 0.167481  [51200]\n",
      "Train Accuracy: 92.8%\n",
      "Valid Error: \n",
      " Accuracy: 93.0%, Avg loss: 0.252492 \n",
      "\n",
      "Epoch 6\n",
      "-------------------------------\n",
      "loss: 0.146135  [    0]\n",
      "loss: 0.153944  [ 6400]\n",
      "loss: 0.115311  [12800]\n",
      "loss: 0.064524  [19200]\n",
      "loss: 0.267357  [25600]\n",
      "loss: 0.417419  [32000]\n",
      "loss: 0.083510  [38400]\n",
      "loss: 0.326595  [44800]\n",
      "loss: 0.281260  [51200]\n",
      "Train Accuracy: 93.4%\n",
      "Valid Error: \n",
      " Accuracy: 93.1%, Avg loss: 0.246037 \n",
      "\n",
      "Epoch 7\n",
      "-------------------------------\n",
      "loss: 0.156954  [    0]\n",
      "loss: 0.351625  [ 6400]\n",
      "loss: 0.119730  [12800]\n",
      "loss: 0.171985  [19200]\n",
      "loss: 0.255369  [25600]\n",
      "loss: 0.144779  [32000]\n",
      "loss: 0.199126  [38400]\n",
      "loss: 0.233628  [44800]\n",
      "loss: 0.112538  [51200]\n",
      "Train Accuracy: 94.0%\n",
      "Valid Error: \n",
      " Accuracy: 94.1%, Avg loss: 0.224146 \n",
      "\n",
      "Epoch 8\n",
      "-------------------------------\n",
      "loss: 0.266327  [    0]\n",
      "loss: 0.109184  [ 6400]\n",
      "loss: 0.182558  [12800]\n",
      "loss: 0.127185  [19200]\n",
      "loss: 0.041110  [25600]\n",
      "loss: 0.177343  [32000]\n",
      "loss: 0.194254  [38400]\n",
      "loss: 0.131184  [44800]\n",
      "loss: 0.099696  [51200]\n",
      "Train Accuracy: 94.3%\n",
      "Valid Error: \n",
      " Accuracy: 93.2%, Avg loss: 0.235499 \n",
      "\n",
      "Epoch 9\n",
      "-------------------------------\n",
      "loss: 0.170555  [    0]\n",
      "loss: 0.181356  [ 6400]\n",
      "loss: 0.164241  [12800]\n",
      "loss: 0.197918  [19200]\n",
      "loss: 0.203895  [25600]\n",
      "loss: 0.224310  [32000]\n",
      "loss: 0.078731  [38400]\n",
      "loss: 0.091881  [44800]\n",
      "loss: 0.120314  [51200]\n",
      "Train Accuracy: 94.6%\n",
      "Valid Error: \n",
      " Accuracy: 94.3%, Avg loss: 0.209466 \n",
      "\n",
      "Epoch 10\n",
      "-------------------------------\n",
      "loss: 0.433367  [    0]\n",
      "loss: 0.147730  [ 6400]\n",
      "loss: 0.181774  [12800]\n",
      "loss: 0.059535  [19200]\n",
      "loss: 0.214534  [25600]\n",
      "loss: 0.131431  [32000]\n",
      "loss: 0.220508  [38400]\n",
      "loss: 0.191716  [44800]\n",
      "loss: 0.066142  [51200]\n",
      "Train Accuracy: 94.9%\n",
      "Valid Error: \n",
      " Accuracy: 94.5%, Avg loss: 0.203729 \n",
      "\n",
      "Epoch 11\n",
      "-------------------------------\n",
      "loss: 0.180139  [    0]\n",
      "loss: 0.120891  [ 6400]\n",
      "loss: 0.135680  [12800]\n",
      "loss: 0.034508  [19200]\n",
      "loss: 0.258589  [25600]\n",
      "loss: 0.097557  [32000]\n",
      "loss: 0.097059  [38400]\n",
      "loss: 0.197082  [44800]\n",
      "loss: 0.123600  [51200]\n",
      "Train Accuracy: 95.1%\n",
      "Valid Error: \n",
      " Accuracy: 94.5%, Avg loss: 0.204974 \n",
      "\n",
      "Epoch 12\n",
      "-------------------------------\n",
      "loss: 0.139329  [    0]\n",
      "loss: 0.119499  [ 6400]\n",
      "loss: 0.209515  [12800]\n",
      "loss: 0.074135  [19200]\n",
      "loss: 0.135513  [25600]\n",
      "loss: 0.062091  [32000]\n",
      "loss: 0.033573  [38400]\n",
      "loss: 0.266654  [44800]\n",
      "loss: 0.103469  [51200]\n",
      "Train Accuracy: 95.4%\n",
      "Valid Error: \n",
      " Accuracy: 94.6%, Avg loss: 0.200801 \n",
      "\n",
      "Epoch 13\n",
      "-------------------------------\n",
      "loss: 0.204589  [    0]\n",
      "loss: 0.126178  [ 6400]\n",
      "loss: 0.095536  [12800]\n",
      "loss: 0.230459  [19200]\n",
      "loss: 0.072109  [25600]\n",
      "loss: 0.211337  [32000]\n",
      "loss: 0.074653  [38400]\n",
      "loss: 0.195278  [44800]\n",
      "loss: 0.210127  [51200]\n",
      "Train Accuracy: 95.5%\n",
      "Valid Error: \n",
      " Accuracy: 94.4%, Avg loss: 0.204337 \n",
      "\n",
      "Epoch 14\n",
      "-------------------------------\n",
      "loss: 0.090150  [    0]\n",
      "loss: 0.060837  [ 6400]\n",
      "loss: 0.232630  [12800]\n",
      "loss: 0.247502  [19200]\n",
      "loss: 0.137474  [25600]\n",
      "loss: 0.117324  [32000]\n",
      "loss: 0.026675  [38400]\n",
      "loss: 0.152013  [44800]\n",
      "loss: 0.185503  [51200]\n",
      "Train Accuracy: 95.7%\n",
      "Valid Error: \n",
      " Accuracy: 94.5%, Avg loss: 0.193052 \n",
      "\n",
      "Epoch 15\n",
      "-------------------------------\n",
      "loss: 0.186494  [    0]\n",
      "loss: 0.129513  [ 6400]\n",
      "loss: 0.213886  [12800]\n",
      "loss: 0.119232  [19200]\n",
      "loss: 0.275665  [25600]\n",
      "loss: 0.132881  [32000]\n",
      "loss: 0.075777  [38400]\n",
      "loss: 0.141992  [44800]\n",
      "loss: 0.025097  [51200]\n",
      "Train Accuracy: 95.8%\n",
      "Valid Error: \n",
      " Accuracy: 94.5%, Avg loss: 0.199928 \n",
      "\n",
      "Epoch 16\n",
      "-------------------------------\n",
      "loss: 0.089328  [    0]\n",
      "loss: 0.153372  [ 6400]\n",
      "loss: 0.227686  [12800]\n",
      "loss: 0.211676  [19200]\n",
      "loss: 0.044010  [25600]\n",
      "loss: 0.029380  [32000]\n",
      "loss: 0.069320  [38400]\n",
      "loss: 0.034915  [44800]\n",
      "loss: 0.142246  [51200]\n",
      "Train Accuracy: 95.9%\n",
      "Valid Error: \n",
      " Accuracy: 95.0%, Avg loss: 0.190465 \n",
      "\n",
      "Epoch 17\n",
      "-------------------------------\n",
      "loss: 0.092383  [    0]\n",
      "loss: 0.047586  [ 6400]\n",
      "loss: 0.254810  [12800]\n",
      "loss: 0.156650  [19200]\n",
      "loss: 0.043503  [25600]\n",
      "loss: 0.095544  [32000]\n",
      "loss: 0.119271  [38400]\n",
      "loss: 0.192140  [44800]\n",
      "loss: 0.043292  [51200]\n",
      "Train Accuracy: 96.0%\n",
      "Valid Error: \n",
      " Accuracy: 94.9%, Avg loss: 0.194125 \n",
      "\n",
      "Epoch 18\n",
      "-------------------------------\n",
      "loss: 0.163105  [    0]\n",
      "loss: 0.421578  [ 6400]\n",
      "loss: 0.262502  [12800]\n",
      "loss: 0.207310  [19200]\n",
      "loss: 0.030840  [25600]\n",
      "loss: 0.096326  [32000]\n",
      "loss: 0.195636  [38400]\n",
      "loss: 0.136390  [44800]\n",
      "loss: 0.341364  [51200]\n",
      "Train Accuracy: 96.1%\n",
      "Valid Error: \n",
      " Accuracy: 94.4%, Avg loss: 0.196182 \n",
      "\n",
      "Epoch 19\n",
      "-------------------------------\n",
      "loss: 0.020479  [    0]\n",
      "loss: 0.035706  [ 6400]\n",
      "loss: 0.189077  [12800]\n",
      "loss: 0.112916  [19200]\n",
      "loss: 0.015937  [25600]\n",
      "loss: 0.354917  [32000]\n",
      "loss: 0.080981  [38400]\n",
      "loss: 0.021762  [44800]\n",
      "loss: 0.117213  [51200]\n",
      "Train Accuracy: 96.3%\n",
      "Valid Error: \n",
      " Accuracy: 94.3%, Avg loss: 0.206266 \n",
      "\n",
      "Epoch 20\n",
      "-------------------------------\n",
      "loss: 0.099497  [    0]\n",
      "loss: 0.166868  [ 6400]\n",
      "loss: 0.109165  [12800]\n",
      "loss: 0.107041  [19200]\n",
      "loss: 0.034928  [25600]\n",
      "loss: 0.094989  [32000]\n",
      "loss: 0.053162  [38400]\n",
      "loss: 0.046518  [44800]\n",
      "loss: 0.131137  [51200]\n",
      "Train Accuracy: 96.3%\n",
      "Valid Error: \n",
      " Accuracy: 94.5%, Avg loss: 0.201614 \n",
      "\n",
      "Done!\n"
     ]
    }
   ],
   "execution_count": 33
  },
  {
   "cell_type": "markdown",
   "source": [
    "And let's plot our losses..."
   ],
   "metadata": {
    "id": "93Bj00HqlEry"
   },
   "id": "93Bj00HqlEry"
  },
  {
   "cell_type": "code",
   "source": [
    "figure = plt.figure(figsize=(16, 16))\n",
    "\n",
    "figure.add_subplot(2, 2, 1)\n",
    "plt.plot(train_epoch_no , train_batch_accuracy, color='red', label='Train')\n",
    "plt.plot(valid_epoch_no , valid_batch_accuracy, color='blue', label='Validation')\n",
    "plt.title(\"Batch Accuracy\")\n",
    "plt.xlabel(\"Epochs\")\n",
    "plt.ylabel(\"Accuracy\")\n",
    "\n",
    "figure.add_subplot(2, 2, 2)\n",
    "plt.plot(train_epoch_no , train_batch_loss, color='red', label='Train')\n",
    "plt.plot(valid_epoch_no , valid_batch_loss, color='blue', label='Validation')\n",
    "plt.title(\"Batch Loss\")\n",
    "plt.xlabel(\"Epochs\")\n",
    "plt.ylabel(\"Loss\")\n",
    "\n",
    "plt.show()"
   ],
   "metadata": {
    "colab": {
     "base_uri": "https://localhost:8080/",
     "height": 662
    },
    "id": "XnuDYItllIX5",
    "executionInfo": {
     "status": "ok",
     "timestamp": 1727778414513,
     "user_tz": -60,
     "elapsed": 783,
     "user": {
      "displayName": "Becky Canning",
      "userId": "17585554670383182468"
     }
    },
    "outputId": "fd5e1887-cc27-4ed7-ffd4-3f1ff005a628",
    "ExecuteTime": {
     "end_time": "2024-10-02T12:20:39.571835Z",
     "start_time": "2024-10-02T12:20:39.415367Z"
    }
   },
   "id": "XnuDYItllIX5",
   "outputs": [
    {
     "data": {
      "text/plain": [
       "<Figure size 1600x1600 with 2 Axes>"
      ],
      "image/png": "[encoded data removed]"
     },
     "metadata": {},
     "output_type": "display_data"
    }
   ],
   "execution_count": 34
  },
  {
   "cell_type": "markdown",
   "source": [
    "# TASK:\n",
    "\n",
    "In PyTorch build a simple model, similar to the one above for the fashionMNIST datset."
   ],
   "metadata": {
    "id": "2LUKvTb4Ut0n"
   },
   "id": "2LUKvTb4Ut0n"
  },
  {
   "cell_type": "code",
   "source": [],
   "metadata": {
    "id": "MTlfEQ8MUtEQ",
    "executionInfo": {
     "status": "ok",
     "timestamp": 1727770886020,
     "user_tz": -60,
     "elapsed": 17,
     "user": {
      "displayName": "Becky Canning",
      "userId": "17585554670383182468"
     }
    }
   },
   "id": "MTlfEQ8MUtEQ",
   "outputs": [],
   "execution_count": null
  }
 ],
 "metadata": {
  "kernelspec": {
   "display_name": "Python 3",
   "language": "python",
   "name": "python3"
  },
  "language_info": {
   "codemirror_mode": {
    "name": "ipython",
    "version": 2
   },
   "file_extension": ".py",
   "mimetype": "text/x-python",
   "name": "python",
   "nbconvert_exporter": "python",
   "pygments_lexer": "ipython2",
   "version": "2.7.6"
  },
  "colab": {
   "provenance": []
  }
 },
 "nbformat": 4,
 "nbformat_minor": 5
}
